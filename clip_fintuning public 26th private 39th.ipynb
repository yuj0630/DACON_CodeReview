{
 "cells": [
  {
   "cell_type": "code",
   "execution_count": 7,
   "id": "00e91294",
   "metadata": {},
   "outputs": [],
   "source": [
    "import os\n",
    "from PIL import Image\n",
    "from torch.utils.data import Dataset, DataLoader, BatchSampler\n"
   ]
  },
  {
   "cell_type": "code",
   "execution_count": 9,
   "id": "42f41414",
   "metadata": {},
   "outputs": [],
   "source": [
    "from PIL import Image\n",
    "import torch\n",
    "from torch import nn, optim\n",
    "import glob\n",
    "import os\n",
    "import pandas as pd\n",
    "import json\n",
    "import numpy as np\n",
    "import clip\n",
    "from torch.utils.data import Dataset, DataLoader, BatchSampler\n",
    "from sklearn.model_selection import train_test_split\n",
    "from tqdm.notebook import tqdm\n",
    "import random\n",
    "from matplotlib.pyplot import imshow\n",
    "import torchtext\n",
    "import nltk, re, string, collections\n",
    "from nltk.util import ngrams\n",
    "import collections\n",
    "%matplotlib inline\n",
    "BATCH_SIZE = 19\n",
    "import open_clip\n",
    "from sklearn import metrics"
   ]
  },
  {
   "cell_type": "code",
   "execution_count": 11,
   "id": "71c96937",
   "metadata": {},
   "outputs": [],
   "source": [
    "import pandas as pd\n",
    "df = pd.read_csv('./label.csv', index_col=0)"
   ]
  },
  {
   "cell_type": "code",
   "execution_count": 13,
   "id": "df83d361",
   "metadata": {},
   "outputs": [
    {
     "data": {
      "text/html": [
       "<div>\n",
       "<style scoped>\n",
       "    .dataframe tbody tr th:only-of-type {\n",
       "        vertical-align: middle;\n",
       "    }\n",
       "\n",
       "    .dataframe tbody tr th {\n",
       "        vertical-align: top;\n",
       "    }\n",
       "\n",
       "    .dataframe thead th {\n",
       "        text-align: right;\n",
       "    }\n",
       "</style>\n",
       "<table border=\"1\" class=\"dataframe\">\n",
       "  <thead>\n",
       "    <tr style=\"text-align: right;\">\n",
       "      <th></th>\n",
       "      <th>image</th>\n",
       "      <th>label</th>\n",
       "      <th>text</th>\n",
       "      <th>label_index</th>\n",
       "    </tr>\n",
       "  </thead>\n",
       "  <tbody>\n",
       "    <tr>\n",
       "      <th>0</th>\n",
       "      <td>./train/bad joint/8.png</td>\n",
       "      <td>bad joint</td>\n",
       "      <td>a photo of door frame</td>\n",
       "      <td>0</td>\n",
       "    </tr>\n",
       "    <tr>\n",
       "      <th>1</th>\n",
       "      <td>./train/bad joint/9.png</td>\n",
       "      <td>bad joint</td>\n",
       "      <td>a photo of door frame</td>\n",
       "      <td>0</td>\n",
       "    </tr>\n",
       "    <tr>\n",
       "      <th>2</th>\n",
       "      <td>./train/bad joint/14.png</td>\n",
       "      <td>bad joint</td>\n",
       "      <td>a photo of door frame</td>\n",
       "      <td>0</td>\n",
       "    </tr>\n",
       "    <tr>\n",
       "      <th>3</th>\n",
       "      <td>./train/bad joint/15.png</td>\n",
       "      <td>bad joint</td>\n",
       "      <td>a photo of door frame</td>\n",
       "      <td>0</td>\n",
       "    </tr>\n",
       "    <tr>\n",
       "      <th>4</th>\n",
       "      <td>./train/bad joint/17.png</td>\n",
       "      <td>bad joint</td>\n",
       "      <td>a photo of door frame</td>\n",
       "      <td>0</td>\n",
       "    </tr>\n",
       "    <tr>\n",
       "      <th>...</th>\n",
       "      <td>...</td>\n",
       "      <td>...</td>\n",
       "      <td>...</td>\n",
       "      <td>...</td>\n",
       "    </tr>\n",
       "    <tr>\n",
       "      <th>3451</th>\n",
       "      <td>./train/damage/379.png</td>\n",
       "      <td>damage</td>\n",
       "      <td>a hole or crack in the wallpaper</td>\n",
       "      <td>18</td>\n",
       "    </tr>\n",
       "    <tr>\n",
       "      <th>3452</th>\n",
       "      <td>./train/damage/423.png</td>\n",
       "      <td>damage</td>\n",
       "      <td>a hole or crack in the wallpaper</td>\n",
       "      <td>18</td>\n",
       "    </tr>\n",
       "    <tr>\n",
       "      <th>3453</th>\n",
       "      <td>./train/damage/345.png</td>\n",
       "      <td>damage</td>\n",
       "      <td>a hole or crack in the wallpaper</td>\n",
       "      <td>18</td>\n",
       "    </tr>\n",
       "    <tr>\n",
       "      <th>3454</th>\n",
       "      <td>./train/damage/351.png</td>\n",
       "      <td>damage</td>\n",
       "      <td>a hole or crack in the wallpaper</td>\n",
       "      <td>18</td>\n",
       "    </tr>\n",
       "    <tr>\n",
       "      <th>3455</th>\n",
       "      <td>./train/damage/437.png</td>\n",
       "      <td>damage</td>\n",
       "      <td>a hole or crack in the wallpaper</td>\n",
       "      <td>18</td>\n",
       "    </tr>\n",
       "  </tbody>\n",
       "</table>\n",
       "<p>3456 rows × 4 columns</p>\n",
       "</div>"
      ],
      "text/plain": [
       "                         image      label                              text  \\\n",
       "0      ./train/bad joint/8.png  bad joint             a photo of door frame   \n",
       "1      ./train/bad joint/9.png  bad joint             a photo of door frame   \n",
       "2     ./train/bad joint/14.png  bad joint             a photo of door frame   \n",
       "3     ./train/bad joint/15.png  bad joint             a photo of door frame   \n",
       "4     ./train/bad joint/17.png  bad joint             a photo of door frame   \n",
       "...                        ...        ...                               ...   \n",
       "3451    ./train/damage/379.png     damage  a hole or crack in the wallpaper   \n",
       "3452    ./train/damage/423.png     damage  a hole or crack in the wallpaper   \n",
       "3453    ./train/damage/345.png     damage  a hole or crack in the wallpaper   \n",
       "3454    ./train/damage/351.png     damage  a hole or crack in the wallpaper   \n",
       "3455    ./train/damage/437.png     damage  a hole or crack in the wallpaper   \n",
       "\n",
       "      label_index  \n",
       "0               0  \n",
       "1               0  \n",
       "2               0  \n",
       "3               0  \n",
       "4               0  \n",
       "...           ...  \n",
       "3451           18  \n",
       "3452           18  \n",
       "3453           18  \n",
       "3454           18  \n",
       "3455           18  \n",
       "\n",
       "[3456 rows x 4 columns]"
      ]
     },
     "execution_count": 13,
     "metadata": {},
     "output_type": "execute_result"
    }
   ],
   "source": [
    "df"
   ]
  },
  {
   "cell_type": "code",
   "execution_count": 14,
   "id": "40a37ce4",
   "metadata": {},
   "outputs": [
    {
     "data": {
      "text/plain": [
       "array(['bad joint', 'mopholder', 'crack', 'Furniture', 'molding',\n",
       "       'window frame', 'gap', 'black spot', 'wailing', 'plaster', 'mold',\n",
       "       'half spot', 'cotton defect', 'wrinkle', 'twist', 'rust pollution',\n",
       "       'piece', 'contamination', 'damage'], dtype=object)"
      ]
     },
     "execution_count": 14,
     "metadata": {},
     "output_type": "execute_result"
    }
   ],
   "source": [
    "df.label.unique()"
   ]
  },
  {
   "cell_type": "code",
   "execution_count": 15,
   "id": "8757c5ca",
   "metadata": {},
   "outputs": [
    {
     "data": {
      "text/plain": [
       "array(['a photo of door frame', 'the baseboard with a crack',\n",
       "       'wall paper is coming off', 'crack or wrinkle at the wall',\n",
       "       'ceiling is coming off', 'crack near electric outlet',\n",
       "       'wall paper is coming off seriously', 'a hole at the ceiling',\n",
       "       'wall paper is cut', 'crack on the plaster board',\n",
       "       'stains on the wall', 'red dots on the wall',\n",
       "       'a protruding part of the wallpaper',\n",
       "       'wrinkle on the ceiling or wall', 'The defective seam wrinkles',\n",
       "       'wall with a brown spot', 'nail on the wall',\n",
       "       'contamination on the wall', 'a hole or crack in the wallpaper'],\n",
       "      dtype=object)"
      ]
     },
     "execution_count": 15,
     "metadata": {},
     "output_type": "execute_result"
    }
   ],
   "source": [
    "df.text.unique()"
   ]
  },
  {
   "cell_type": "code",
   "execution_count": 16,
   "id": "09bf6246",
   "metadata": {},
   "outputs": [],
   "source": [
    "text_dict = {'a photo of door frame' : 'the door frame with a crack', \n",
    " 'the baseboard with a crack' : 'the baseboard with a crack', \n",
    " 'wall paper is coming off' : 'wall paper is coming off at the corner',\n",
    " 'crack or wrinkle at the wall' : 'the crack with drawer and wall',\n",
    " 'ceiling is coming off' : 'corner of the ceiling',\n",
    " 'crack near electric outlet' : 'crack near electric outlet',\n",
    " 'wall paper is coming off seriously' : 'serious crack at the corner',\n",
    " 'a hole at the ceiling' : 'a hole at the ceiling',\n",
    " 'wall paper is cut' : 'wall paper is cut',\n",
    " 'crack on the plaster board' : 'crack on the ceiling',\n",
    " 'stains on the wall' : 'stains on the wall',\n",
    " 'red dots on the wall' : 'red dots or blue dots on the wall',\n",
    " 'a protruding part of the wallpaper' : 'a protruding part of the wallpaper',\n",
    " 'wrinkle on the ceiling or wall' : 'wrinkle on the ceiling or wall',\n",
    " 'The defective seam wrinkles' : 'seam wrinkles around the corner',\n",
    " 'wall with a brown spot' : 'wall with a brown spot',\n",
    " 'nail on the wall' : 'nail on the wall',\n",
    " 'contamination on the wall' : 'contamination on the wall',\n",
    " 'a hole or crack in the wallpaper' : 'a hole or crack in the wallpaper'\n",
    "}"
   ]
  },
  {
   "cell_type": "code",
   "execution_count": 17,
   "id": "cf6a4365",
   "metadata": {},
   "outputs": [],
   "source": [
    "df['text'] = df['text'].map(text_dict)"
   ]
  },
  {
   "cell_type": "code",
   "execution_count": 10,
   "id": "f30c42b2",
   "metadata": {},
   "outputs": [],
   "source": [
    "# def rename_text(string):\n",
    "#     return 'a photo of ' + string"
   ]
  },
  {
   "cell_type": "code",
   "execution_count": 11,
   "id": "357b6fa5",
   "metadata": {},
   "outputs": [],
   "source": [
    "# df['text'] = df['label'].apply(rename_text)"
   ]
  },
  {
   "cell_type": "code",
   "execution_count": 12,
   "id": "fcd70aa3",
   "metadata": {},
   "outputs": [],
   "source": [
    "# def rename_text(string):\n",
    "#     if string[:7] == 'a photo':\n",
    "#         return string\n",
    "#     else:\n",
    "#         return 'a photo of ' + string\n"
   ]
  },
  {
   "cell_type": "code",
   "execution_count": 13,
   "id": "5bc635d1",
   "metadata": {},
   "outputs": [],
   "source": [
    "# df['text'] = df['text'].apply(rename_text)"
   ]
  },
  {
   "cell_type": "code",
   "execution_count": 18,
   "id": "5a797ef6",
   "metadata": {},
   "outputs": [],
   "source": [
    "text_label = list(df.text.unique())"
   ]
  },
  {
   "cell_type": "code",
   "execution_count": 19,
   "id": "2eb0e76a",
   "metadata": {},
   "outputs": [
    {
     "data": {
      "text/plain": [
       "['the door frame with a crack',\n",
       " 'the baseboard with a crack',\n",
       " 'wall paper is coming off at the corner',\n",
       " 'the crack with drawer and wall',\n",
       " 'corner of the ceiling',\n",
       " 'crack near electric outlet',\n",
       " 'serious crack at the corner',\n",
       " 'a hole at the ceiling',\n",
       " 'wall paper is cut',\n",
       " 'crack on the ceiling',\n",
       " 'stains on the wall',\n",
       " 'red dots or blue dots on the wall',\n",
       " 'a protruding part of the wallpaper',\n",
       " 'wrinkle on the ceiling or wall',\n",
       " 'seam wrinkles around the corner',\n",
       " 'wall with a brown spot',\n",
       " 'nail on the wall',\n",
       " 'contamination on the wall',\n",
       " 'a hole or crack in the wallpaper']"
      ]
     },
     "execution_count": 19,
     "metadata": {},
     "output_type": "execute_result"
    }
   ],
   "source": [
    "text_label"
   ]
  },
  {
   "cell_type": "code",
   "execution_count": 20,
   "id": "07d968df",
   "metadata": {},
   "outputs": [
    {
     "data": {
      "text/plain": [
       "19"
      ]
     },
     "execution_count": 20,
     "metadata": {},
     "output_type": "execute_result"
    }
   ],
   "source": [
    "len(text_label)"
   ]
  },
  {
   "cell_type": "code",
   "execution_count": 22,
   "id": "c672a95a",
   "metadata": {},
   "outputs": [],
   "source": [
    "import numpy as np\n",
    "from sklearn.model_selection import train_test_split\n",
    "\n",
    "x_train, x_test, y_train, y_test = train_test_split(df, df['label_index'], test_size=0.33, random_state=777, stratify=df['label_index'])"
   ]
  },
  {
   "cell_type": "code",
   "execution_count": 23,
   "id": "73676cbe",
   "metadata": {},
   "outputs": [
    {
     "data": {
      "text/html": [
       "<div>\n",
       "<style scoped>\n",
       "    .dataframe tbody tr th:only-of-type {\n",
       "        vertical-align: middle;\n",
       "    }\n",
       "\n",
       "    .dataframe tbody tr th {\n",
       "        vertical-align: top;\n",
       "    }\n",
       "\n",
       "    .dataframe thead th {\n",
       "        text-align: right;\n",
       "    }\n",
       "</style>\n",
       "<table border=\"1\" class=\"dataframe\">\n",
       "  <thead>\n",
       "    <tr style=\"text-align: right;\">\n",
       "      <th></th>\n",
       "      <th>image</th>\n",
       "      <th>label</th>\n",
       "      <th>text</th>\n",
       "      <th>label_index</th>\n",
       "    </tr>\n",
       "  </thead>\n",
       "  <tbody>\n",
       "    <tr>\n",
       "      <th>1222</th>\n",
       "      <td>./train/twist/165.png</td>\n",
       "      <td>twist</td>\n",
       "      <td>seam wrinkles around the corner</td>\n",
       "      <td>14</td>\n",
       "    </tr>\n",
       "    <tr>\n",
       "      <th>331</th>\n",
       "      <td>./train/mopholder/91.png</td>\n",
       "      <td>mopholder</td>\n",
       "      <td>the baseboard with a crack</td>\n",
       "      <td>1</td>\n",
       "    </tr>\n",
       "    <tr>\n",
       "      <th>3416</th>\n",
       "      <td>./train/damage/225.png</td>\n",
       "      <td>damage</td>\n",
       "      <td>a hole or crack in the wallpaper</td>\n",
       "      <td>18</td>\n",
       "    </tr>\n",
       "    <tr>\n",
       "      <th>1569</th>\n",
       "      <td>./train/contamination/563.png</td>\n",
       "      <td>contamination</td>\n",
       "      <td>contamination on the wall</td>\n",
       "      <td>17</td>\n",
       "    </tr>\n",
       "    <tr>\n",
       "      <th>3299</th>\n",
       "      <td>./train/damage/1214.png</td>\n",
       "      <td>damage</td>\n",
       "      <td>a hole or crack in the wallpaper</td>\n",
       "      <td>18</td>\n",
       "    </tr>\n",
       "    <tr>\n",
       "      <th>...</th>\n",
       "      <td>...</td>\n",
       "      <td>...</td>\n",
       "      <td>...</td>\n",
       "      <td>...</td>\n",
       "    </tr>\n",
       "    <tr>\n",
       "      <th>2396</th>\n",
       "      <td>./train/damage/402.png</td>\n",
       "      <td>damage</td>\n",
       "      <td>a hole or crack in the wallpaper</td>\n",
       "      <td>18</td>\n",
       "    </tr>\n",
       "    <tr>\n",
       "      <th>571</th>\n",
       "      <td>./train/window frame/128.png</td>\n",
       "      <td>window frame</td>\n",
       "      <td>crack near electric outlet</td>\n",
       "      <td>5</td>\n",
       "    </tr>\n",
       "    <tr>\n",
       "      <th>1539</th>\n",
       "      <td>./train/contamination/549.png</td>\n",
       "      <td>contamination</td>\n",
       "      <td>contamination on the wall</td>\n",
       "      <td>17</td>\n",
       "    </tr>\n",
       "    <tr>\n",
       "      <th>2910</th>\n",
       "      <td>./train/damage/1129.png</td>\n",
       "      <td>damage</td>\n",
       "      <td>a hole or crack in the wallpaper</td>\n",
       "      <td>18</td>\n",
       "    </tr>\n",
       "    <tr>\n",
       "      <th>480</th>\n",
       "      <td>./train/molding/24.png</td>\n",
       "      <td>molding</td>\n",
       "      <td>corner of the ceiling</td>\n",
       "      <td>4</td>\n",
       "    </tr>\n",
       "  </tbody>\n",
       "</table>\n",
       "<p>2315 rows × 4 columns</p>\n",
       "</div>"
      ],
      "text/plain": [
       "                              image          label  \\\n",
       "1222          ./train/twist/165.png          twist   \n",
       "331        ./train/mopholder/91.png      mopholder   \n",
       "3416         ./train/damage/225.png         damage   \n",
       "1569  ./train/contamination/563.png  contamination   \n",
       "3299        ./train/damage/1214.png         damage   \n",
       "...                             ...            ...   \n",
       "2396         ./train/damage/402.png         damage   \n",
       "571    ./train/window frame/128.png   window frame   \n",
       "1539  ./train/contamination/549.png  contamination   \n",
       "2910        ./train/damage/1129.png         damage   \n",
       "480          ./train/molding/24.png        molding   \n",
       "\n",
       "                                  text  label_index  \n",
       "1222   seam wrinkles around the corner           14  \n",
       "331         the baseboard with a crack            1  \n",
       "3416  a hole or crack in the wallpaper           18  \n",
       "1569         contamination on the wall           17  \n",
       "3299  a hole or crack in the wallpaper           18  \n",
       "...                                ...          ...  \n",
       "2396  a hole or crack in the wallpaper           18  \n",
       "571         crack near electric outlet            5  \n",
       "1539         contamination on the wall           17  \n",
       "2910  a hole or crack in the wallpaper           18  \n",
       "480              corner of the ceiling            4  \n",
       "\n",
       "[2315 rows x 4 columns]"
      ]
     },
     "execution_count": 23,
     "metadata": {},
     "output_type": "execute_result"
    }
   ],
   "source": [
    "x_train"
   ]
  },
  {
   "cell_type": "markdown",
   "id": "7a25ef9d",
   "metadata": {},
   "source": [
    "## dataset 정의와 batchsampler 정의"
   ]
  },
  {
   "cell_type": "code",
   "execution_count": 16,
   "id": "6bdbefcc",
   "metadata": {},
   "outputs": [],
   "source": [
    "from torch.utils.data import Dataset, DataLoader\n",
    "class FlawDataset(Dataset):\n",
    "    def __init__(self, csv_df, transform):\n",
    "        self.csv_df = csv_df\n",
    "        self.img_list = []\n",
    "        self.transform =transform\n",
    "        for img_path in self.csv_df['image']:\n",
    "            self.img_list.append(Image.open(img_path))\n",
    "        \n",
    "        \n",
    "        self.text = self.csv_df['text'].to_list()\n",
    "        self.label = self.csv_df['label_index'].to_list()\n",
    "        \n",
    "        \n",
    "    def __len__(self):\n",
    "        return len(self.img_list)\n",
    "    \n",
    "    def __getitem__(self, idx):\n",
    "        img = self.img_list[idx]\n",
    "        text = self.text[idx]\n",
    "        label = self.label[idx]\n",
    "        \n",
    "        img = self.transform(img)\n",
    "        \n",
    "        return img, text, label"
   ]
  },
  {
   "cell_type": "code",
   "execution_count": 17,
   "id": "212a287f",
   "metadata": {},
   "outputs": [],
   "source": [
    "class BalancedBatchSampler(BatchSampler):\n",
    "    \"\"\"\n",
    "    BatchSampler - from a MNIST-like dataset, samples n_classes and within these classes samples n_samples.\n",
    "    Returns batches of size n_classes * n_samples\n",
    "    \"\"\"\n",
    "\n",
    "    def __init__(self, labels, n_classes, n_samples):\n",
    "        self.labels = labels\n",
    "        self.labels_set = list(set(self.labels.numpy()))\n",
    "        self.label_to_indices = {label: np.where(self.labels.numpy() == label)[0]\n",
    "                                 for label in self.labels_set}\n",
    "        for l in self.labels_set:\n",
    "            np.random.shuffle(self.label_to_indices[l])\n",
    "        self.used_label_indices_count = {label: 0 for label in self.labels_set}\n",
    "        self.count = 0\n",
    "        self.n_classes = n_classes\n",
    "        self.n_samples = n_samples\n",
    "        self.n_dataset = len(self.labels)\n",
    "        self.batch_size = self.n_samples * self.n_classes\n",
    "\n",
    "    def __iter__(self):\n",
    "        self.count = 0\n",
    "        while self.count + self.batch_size < self.n_dataset:\n",
    "            classes = np.random.choice(self.labels_set, self.n_classes, replace=False)\n",
    "            indices = []\n",
    "            for class_ in classes:\n",
    "                indices.extend(self.label_to_indices[class_][\n",
    "                               self.used_label_indices_count[class_]:self.used_label_indices_count[\n",
    "                                                                         class_] + self.n_samples])\n",
    "                self.used_label_indices_count[class_] += self.n_samples\n",
    "                if self.used_label_indices_count[class_] + self.n_samples > len(self.label_to_indices[class_]):\n",
    "                    np.random.shuffle(self.label_to_indices[class_])\n",
    "                    self.used_label_indices_count[class_] = 0\n",
    "            yield indices\n",
    "            self.count += self.n_classes * self.n_samples\n",
    "\n",
    "    def __len__(self):\n",
    "        return self.n_dataset // self.batch_size"
   ]
  },
  {
   "cell_type": "code",
   "execution_count": 18,
   "id": "00fe7679",
   "metadata": {},
   "outputs": [
    {
     "data": {
      "text/plain": [
       "['RN50',\n",
       " 'RN101',\n",
       " 'RN50x4',\n",
       " 'RN50x16',\n",
       " 'RN50x64',\n",
       " 'ViT-B/32',\n",
       " 'ViT-B/16',\n",
       " 'ViT-L/14',\n",
       " 'ViT-L/14@336px']"
      ]
     },
     "execution_count": 18,
     "metadata": {},
     "output_type": "execute_result"
    }
   ],
   "source": [
    "clip.available_models()"
   ]
  },
  {
   "cell_type": "code",
   "execution_count": 19,
   "id": "1c33b0b2",
   "metadata": {},
   "outputs": [],
   "source": [
    "device='cuda'"
   ]
  },
  {
   "cell_type": "code",
   "execution_count": 20,
   "id": "4fe19a2c",
   "metadata": {},
   "outputs": [],
   "source": [
    "model, preprocess = clip.load('ViT-L/14@336px', device=device, jit=False)"
   ]
  },
  {
   "cell_type": "code",
   "execution_count": 21,
   "id": "c2853e82",
   "metadata": {},
   "outputs": [
    {
     "data": {
      "text/plain": [
       "Compose(\n",
       "    Resize(size=336, interpolation=bicubic, max_size=None, antialias=None)\n",
       "    CenterCrop(size=(336, 336))\n",
       "    <function _convert_image_to_rgb at 0x7f38ad527370>\n",
       "    ToTensor()\n",
       "    Normalize(mean=(0.48145466, 0.4578275, 0.40821073), std=(0.26862954, 0.26130258, 0.27577711))\n",
       ")"
      ]
     },
     "execution_count": 21,
     "metadata": {},
     "output_type": "execute_result"
    }
   ],
   "source": [
    "preprocess"
   ]
  },
  {
   "cell_type": "code",
   "execution_count": 22,
   "id": "1995f1fd",
   "metadata": {},
   "outputs": [],
   "source": [
    "def _convert_image_to_rgb(image):\n",
    "    return image.convert(\"RGB\")"
   ]
  },
  {
   "cell_type": "code",
   "execution_count": 23,
   "id": "34fb83c1",
   "metadata": {},
   "outputs": [],
   "source": [
    "from torchvision import transforms\n",
    "from torchvision.transforms import InterpolationMode\n",
    "train_preprocess = transforms.Compose([\n",
    "    transforms.RandomResizedCrop(size=(336, 336), interpolation=InterpolationMode.BICUBIC, scale=(0.8, 1.0), ratio=(0.9, 1.1)),\n",
    "    transforms.autoaugment.TrivialAugmentWide(interpolation=InterpolationMode.BILINEAR),\n",
    "    #_convert_image_to_rgb,\n",
    "    transforms.PILToTensor(),\n",
    "    transforms.ConvertImageDtype(torch.float),\n",
    "    transforms.Normalize(mean=(0.48145466, 0.4578275, 0.40821073), std=(0.26862954, 0.26130258, 0.27577711)),\n",
    "    transforms.RandomErasing(p=0.1)\n",
    "]\n",
    ")\n",
    "\n",
    "val_preprocess = transforms.Compose([\n",
    "    transforms.Resize(size=(336, 336), interpolation=InterpolationMode.BICUBIC, max_size=None, antialias=None),\n",
    "    transforms.CenterCrop(size=(336, 336)),\n",
    "    #_convert_image_to_rgb,\n",
    "    transforms.PILToTensor(),\n",
    "    transforms.ConvertImageDtype(torch.float),\n",
    "    transforms.Normalize(mean=(0.48145466, 0.4578275, 0.40821073), std=(0.26862954, 0.26130258, 0.27577711)),\n",
    "]\n",
    ")"
   ]
  },
  {
   "cell_type": "code",
   "execution_count": 28,
   "id": "63b51bc9",
   "metadata": {},
   "outputs": [],
   "source": [
    "process = transforms.Compose([\n",
    "    transforms.Resize(size=336, interpolation=InterpolationMode.BICUBIC, max_size=None, antialias=None),\n",
    "    transforms.ToTensor()\n",
    "])"
   ]
  },
  {
   "cell_type": "code",
   "execution_count": 24,
   "id": "08aab030",
   "metadata": {
    "scrolled": true
   },
   "outputs": [],
   "source": [
    "train_dataset = FlawDataset(x_train, train_preprocess)\n",
    "test_dataset = FlawDataset(x_test, val_preprocess)"
   ]
  },
  {
   "cell_type": "code",
   "execution_count": 25,
   "id": "491c0c73",
   "metadata": {},
   "outputs": [],
   "source": [
    "BATCH_SIZE = 19"
   ]
  },
  {
   "cell_type": "code",
   "execution_count": 26,
   "id": "62c8427d",
   "metadata": {},
   "outputs": [],
   "source": [
    "train_labels = torch.tensor([item[2] for item in train_dataset])\n",
    "train_sampler = BalancedBatchSampler(train_labels, BATCH_SIZE, 1)\n",
    "train_dataloader = DataLoader(train_dataset, batch_sampler=train_sampler)\n",
    "#train_dataloader = DataLoader(train_dataset, batch_size=BATCH_SIZE, shuffle = True, drop_last = True)\n",
    "\n",
    "test_labels = torch.tensor([item[2] for item in test_dataset])\n",
    "test_sampler = BalancedBatchSampler(test_labels, BATCH_SIZE, 1)\n",
    "test_dataloader = DataLoader(test_dataset, batch_sampler=test_sampler)\n",
    "#test_dataloader = DataLoader(test_dataset, batch_size=BATCH_SIZE, shuffle = False, drop_last = True)"
   ]
  },
  {
   "cell_type": "code",
   "execution_count": 27,
   "id": "182234aa",
   "metadata": {},
   "outputs": [],
   "source": [
    "EPOCH = 40"
   ]
  },
  {
   "cell_type": "code",
   "execution_count": 28,
   "id": "5423bfc4",
   "metadata": {},
   "outputs": [],
   "source": [
    "def convert_models_to_fp32(model): \n",
    "    for p in model.parameters(): \n",
    "        p.data = p.data.float() \n",
    "        p.grad.data = p.grad.data.float() \n",
    "\n",
    "if device == \"cpu\":\n",
    "    model.float()\n",
    "\n",
    "loss_img = nn.CrossEntropyLoss()\n",
    "loss_txt = nn.CrossEntropyLoss()\n",
    "#optimizer = optim.Adam(model.parameters(), lr=1e-6,betas=(0.9,0.98),eps=1e-6,weight_decay=0.05)\n",
    "optimizer = optim.AdamW(model.parameters(), lr=1e-5)\n",
    "#optimizer = optim.SGD(model.parameters(), lr=1e-5, momentum=0.9, weight_decay = 1e-4)\n",
    "scheduler = optim.lr_scheduler.CosineAnnealingLR(optimizer, len(train_dataloader)*EPOCH)"
   ]
  },
  {
   "cell_type": "code",
   "execution_count": 29,
   "id": "ab062116",
   "metadata": {
    "scrolled": true
   },
   "outputs": [
    {
     "name": "stdout",
     "output_type": "stream",
     "text": [
      "running epoch 0, best test loss 100000.0 after epoch -1\n"
     ]
    },
    {
     "data": {
      "application/vnd.jupyter.widget-view+json": {
       "model_id": "",
       "version_major": 2,
       "version_minor": 0
      },
      "text/plain": [
       "  0%|          | 0/121 [00:00<?, ?it/s]"
      ]
     },
     "metadata": {},
     "output_type": "display_data"
    },
    {
     "data": {
      "application/vnd.jupyter.widget-view+json": {
       "model_id": "",
       "version_major": 2,
       "version_minor": 0
      },
      "text/plain": [
       "  0%|          | 0/60 [00:00<?, ?it/s]"
      ]
     },
     "metadata": {},
     "output_type": "display_data"
    },
    {
     "name": "stdout",
     "output_type": "stream",
     "text": [
      "0.7239263803680982\n",
      "0.5706872079875117\n",
      "epoch 0, tr_loss 0.9229514382102273, te_loss 1.0137736002604167\n",
      "running epoch 1, best test loss 100000.0 after epoch 0\n"
     ]
    },
    {
     "data": {
      "application/vnd.jupyter.widget-view+json": {
       "model_id": "",
       "version_major": 2,
       "version_minor": 0
      },
      "text/plain": [
       "  0%|          | 0/121 [00:00<?, ?it/s]"
      ]
     },
     "metadata": {},
     "output_type": "display_data"
    },
    {
     "data": {
      "application/vnd.jupyter.widget-view+json": {
       "model_id": "",
       "version_major": 2,
       "version_minor": 0
      },
      "text/plain": [
       "  0%|          | 0/60 [00:00<?, ?it/s]"
      ]
     },
     "metadata": {},
     "output_type": "display_data"
    },
    {
     "name": "stdout",
     "output_type": "stream",
     "text": [
      "0.7055214723926381\n",
      "0.5993220314884271\n",
      "epoch 1, tr_loss 0.5953429671358471, te_loss 1.0419352213541666\n",
      "running epoch 2, best test loss 100000.0 after epoch 1\n"
     ]
    },
    {
     "data": {
      "application/vnd.jupyter.widget-view+json": {
       "model_id": "",
       "version_major": 2,
       "version_minor": 0
      },
      "text/plain": [
       "  0%|          | 0/121 [00:00<?, ?it/s]"
      ]
     },
     "metadata": {},
     "output_type": "display_data"
    },
    {
     "data": {
      "application/vnd.jupyter.widget-view+json": {
       "model_id": "",
       "version_major": 2,
       "version_minor": 0
      },
      "text/plain": [
       "  0%|          | 0/60 [00:00<?, ?it/s]"
      ]
     },
     "metadata": {},
     "output_type": "display_data"
    },
    {
     "name": "stdout",
     "output_type": "stream",
     "text": [
      "0.7572304995617879\n",
      "0.6595297635434951\n",
      "epoch 2, tr_loss 0.33061722684497674, te_loss 0.8682515462239583\n",
      "running epoch 3, best test loss 100000.0 after epoch 2\n"
     ]
    },
    {
     "data": {
      "application/vnd.jupyter.widget-view+json": {
       "model_id": "",
       "version_major": 2,
       "version_minor": 0
      },
      "text/plain": [
       "  0%|          | 0/121 [00:00<?, ?it/s]"
      ]
     },
     "metadata": {},
     "output_type": "display_data"
    },
    {
     "data": {
      "application/vnd.jupyter.widget-view+json": {
       "model_id": "",
       "version_major": 2,
       "version_minor": 0
      },
      "text/plain": [
       "  0%|          | 0/60 [00:00<?, ?it/s]"
      ]
     },
     "metadata": {},
     "output_type": "display_data"
    },
    {
     "name": "stdout",
     "output_type": "stream",
     "text": [
      "0.7598597721297108\n",
      "0.6341815120146724\n",
      "epoch 3, tr_loss 0.36701574404377585, te_loss 1.04078369140625\n",
      "running epoch 4, best test loss 100000.0 after epoch 3\n"
     ]
    },
    {
     "data": {
      "application/vnd.jupyter.widget-view+json": {
       "model_id": "",
       "version_major": 2,
       "version_minor": 0
      },
      "text/plain": [
       "  0%|          | 0/121 [00:00<?, ?it/s]"
      ]
     },
     "metadata": {},
     "output_type": "display_data"
    },
    {
     "data": {
      "application/vnd.jupyter.widget-view+json": {
       "model_id": "",
       "version_major": 2,
       "version_minor": 0
      },
      "text/plain": [
       "  0%|          | 0/60 [00:00<?, ?it/s]"
      ]
     },
     "metadata": {},
     "output_type": "display_data"
    },
    {
     "name": "stdout",
     "output_type": "stream",
     "text": [
      "0.7423312883435583\n",
      "0.680096571652854\n",
      "epoch 4, tr_loss 0.2652658194549813, te_loss 1.0487060546875\n",
      "running epoch 5, best test loss 100000.0 after epoch 4\n"
     ]
    },
    {
     "data": {
      "application/vnd.jupyter.widget-view+json": {
       "model_id": "",
       "version_major": 2,
       "version_minor": 0
      },
      "text/plain": [
       "  0%|          | 0/121 [00:00<?, ?it/s]"
      ]
     },
     "metadata": {},
     "output_type": "display_data"
    },
    {
     "data": {
      "application/vnd.jupyter.widget-view+json": {
       "model_id": "",
       "version_major": 2,
       "version_minor": 0
      },
      "text/plain": [
       "  0%|          | 0/60 [00:00<?, ?it/s]"
      ]
     },
     "metadata": {},
     "output_type": "display_data"
    },
    {
     "name": "stdout",
     "output_type": "stream",
     "text": [
      "0.7563540753724802\n",
      "0.69237483836354\n",
      "epoch 5, tr_loss 0.2647482501573799, te_loss 0.9527425130208333\n",
      "running epoch 6, best test loss 100000.0 after epoch 5\n"
     ]
    },
    {
     "data": {
      "application/vnd.jupyter.widget-view+json": {
       "model_id": "",
       "version_major": 2,
       "version_minor": 0
      },
      "text/plain": [
       "  0%|          | 0/121 [00:00<?, ?it/s]"
      ]
     },
     "metadata": {},
     "output_type": "display_data"
    },
    {
     "data": {
      "application/vnd.jupyter.widget-view+json": {
       "model_id": "",
       "version_major": 2,
       "version_minor": 0
      },
      "text/plain": [
       "  0%|          | 0/60 [00:00<?, ?it/s]"
      ]
     },
     "metadata": {},
     "output_type": "display_data"
    },
    {
     "name": "stdout",
     "output_type": "stream",
     "text": [
      "0.838737949167397\n",
      "0.7114245735747308\n",
      "epoch 6, tr_loss 0.1812168783392788, te_loss 1.0488271077473958\n",
      "running epoch 7, best test loss 100000.0 after epoch 6\n"
     ]
    },
    {
     "data": {
      "application/vnd.jupyter.widget-view+json": {
       "model_id": "",
       "version_major": 2,
       "version_minor": 0
      },
      "text/plain": [
       "  0%|          | 0/121 [00:00<?, ?it/s]"
      ]
     },
     "metadata": {},
     "output_type": "display_data"
    },
    {
     "data": {
      "application/vnd.jupyter.widget-view+json": {
       "model_id": "",
       "version_major": 2,
       "version_minor": 0
      },
      "text/plain": [
       "  0%|          | 0/60 [00:00<?, ?it/s]"
      ]
     },
     "metadata": {},
     "output_type": "display_data"
    },
    {
     "name": "stdout",
     "output_type": "stream",
     "text": [
      "0.8089395267309377\n",
      "0.6743799187599123\n",
      "epoch 7, tr_loss 0.1653354424090425, te_loss 1.0917460123697917\n",
      "running epoch 8, best test loss 100000.0 after epoch 7\n"
     ]
    },
    {
     "data": {
      "application/vnd.jupyter.widget-view+json": {
       "model_id": "",
       "version_major": 2,
       "version_minor": 0
      },
      "text/plain": [
       "  0%|          | 0/121 [00:00<?, ?it/s]"
      ]
     },
     "metadata": {},
     "output_type": "display_data"
    },
    {
     "data": {
      "application/vnd.jupyter.widget-view+json": {
       "model_id": "",
       "version_major": 2,
       "version_minor": 0
      },
      "text/plain": [
       "  0%|          | 0/60 [00:00<?, ?it/s]"
      ]
     },
     "metadata": {},
     "output_type": "display_data"
    },
    {
     "name": "stdout",
     "output_type": "stream",
     "text": [
      "0.8422436459246275\n",
      "0.7071091362396275\n",
      "epoch 8, tr_loss 0.12691989614943827, te_loss 1.127935791015625\n",
      "running epoch 9, best test loss 100000.0 after epoch 8\n"
     ]
    },
    {
     "data": {
      "application/vnd.jupyter.widget-view+json": {
       "model_id": "",
       "version_major": 2,
       "version_minor": 0
      },
      "text/plain": [
       "  0%|          | 0/121 [00:00<?, ?it/s]"
      ]
     },
     "metadata": {},
     "output_type": "display_data"
    },
    {
     "data": {
      "application/vnd.jupyter.widget-view+json": {
       "model_id": "",
       "version_major": 2,
       "version_minor": 0
      },
      "text/plain": [
       "  0%|          | 0/60 [00:00<?, ?it/s]"
      ]
     },
     "metadata": {},
     "output_type": "display_data"
    },
    {
     "name": "stdout",
     "output_type": "stream",
     "text": [
      "0.8045574057843996\n",
      "0.6887433236570245\n",
      "epoch 9, tr_loss 0.17553346807306464, te_loss 1.1623433430989583\n",
      "running epoch 10, best test loss 100000.0 after epoch 9\n"
     ]
    },
    {
     "data": {
      "application/vnd.jupyter.widget-view+json": {
       "model_id": "",
       "version_major": 2,
       "version_minor": 0
      },
      "text/plain": [
       "  0%|          | 0/121 [00:00<?, ?it/s]"
      ]
     },
     "metadata": {},
     "output_type": "display_data"
    },
    {
     "data": {
      "application/vnd.jupyter.widget-view+json": {
       "model_id": "",
       "version_major": 2,
       "version_minor": 0
      },
      "text/plain": [
       "  0%|          | 0/60 [00:00<?, ?it/s]"
      ]
     },
     "metadata": {},
     "output_type": "display_data"
    },
    {
     "name": "stdout",
     "output_type": "stream",
     "text": [
      "0.8361086765994742\n",
      "0.7102411340128069\n",
      "epoch 10, tr_loss 0.1345005193032509, te_loss 1.1821573893229167\n",
      "running epoch 11, best test loss 100000.0 after epoch 10\n"
     ]
    },
    {
     "data": {
      "application/vnd.jupyter.widget-view+json": {
       "model_id": "",
       "version_major": 2,
       "version_minor": 0
      },
      "text/plain": [
       "  0%|          | 0/121 [00:00<?, ?it/s]"
      ]
     },
     "metadata": {},
     "output_type": "display_data"
    },
    {
     "data": {
      "application/vnd.jupyter.widget-view+json": {
       "model_id": "",
       "version_major": 2,
       "version_minor": 0
      },
      "text/plain": [
       "  0%|          | 0/60 [00:00<?, ?it/s]"
      ]
     },
     "metadata": {},
     "output_type": "display_data"
    },
    {
     "name": "stdout",
     "output_type": "stream",
     "text": [
      "0.838737949167397\n",
      "0.7186376100459362\n",
      "epoch 11, tr_loss 0.14620631194311726, te_loss 1.1038798014322917\n",
      "running epoch 12, best test loss 100000.0 after epoch 11\n"
     ]
    },
    {
     "data": {
      "application/vnd.jupyter.widget-view+json": {
       "model_id": "",
       "version_major": 2,
       "version_minor": 0
      },
      "text/plain": [
       "  0%|          | 0/121 [00:00<?, ?it/s]"
      ]
     },
     "metadata": {},
     "output_type": "display_data"
    },
    {
     "data": {
      "application/vnd.jupyter.widget-view+json": {
       "model_id": "",
       "version_major": 2,
       "version_minor": 0
      },
      "text/plain": [
       "  0%|          | 0/60 [00:00<?, ?it/s]"
      ]
     },
     "metadata": {},
     "output_type": "display_data"
    },
    {
     "name": "stdout",
     "output_type": "stream",
     "text": [
      "0.8334794040315513\n",
      "0.7051664977905758\n",
      "epoch 12, tr_loss 0.18104004662884168, te_loss 1.0121622721354167\n",
      "running epoch 13, best test loss 100000.0 after epoch 12\n"
     ]
    },
    {
     "data": {
      "application/vnd.jupyter.widget-view+json": {
       "model_id": "",
       "version_major": 2,
       "version_minor": 0
      },
      "text/plain": [
       "  0%|          | 0/121 [00:00<?, ?it/s]"
      ]
     },
     "metadata": {},
     "output_type": "display_data"
    },
    {
     "data": {
      "application/vnd.jupyter.widget-view+json": {
       "model_id": "",
       "version_major": 2,
       "version_minor": 0
      },
      "text/plain": [
       "  0%|          | 0/60 [00:00<?, ?it/s]"
      ]
     },
     "metadata": {},
     "output_type": "display_data"
    },
    {
     "name": "stdout",
     "output_type": "stream",
     "text": [
      "0.8580192813321648\n",
      "0.7684317722978279\n",
      "epoch 13, tr_loss 0.1115969586963496, te_loss 1.0115458170572917\n",
      "running epoch 14, best test loss 100000.0 after epoch 13\n"
     ]
    },
    {
     "data": {
      "application/vnd.jupyter.widget-view+json": {
       "model_id": "",
       "version_major": 2,
       "version_minor": 0
      },
      "text/plain": [
       "  0%|          | 0/121 [00:00<?, ?it/s]"
      ]
     },
     "metadata": {},
     "output_type": "display_data"
    },
    {
     "data": {
      "application/vnd.jupyter.widget-view+json": {
       "model_id": "",
       "version_major": 2,
       "version_minor": 0
      },
      "text/plain": [
       "  0%|          | 0/60 [00:00<?, ?it/s]"
      ]
     },
     "metadata": {},
     "output_type": "display_data"
    },
    {
     "name": "stdout",
     "output_type": "stream",
     "text": [
      "0.838737949167397\n",
      "0.7580183064519344\n",
      "epoch 14, tr_loss 0.10230688615278764, te_loss 1.0230509440104167\n",
      "running epoch 15, best test loss 100000.0 after epoch 14\n"
     ]
    },
    {
     "data": {
      "application/vnd.jupyter.widget-view+json": {
       "model_id": "",
       "version_major": 2,
       "version_minor": 0
      },
      "text/plain": [
       "  0%|          | 0/121 [00:00<?, ?it/s]"
      ]
     },
     "metadata": {},
     "output_type": "display_data"
    },
    {
     "data": {
      "application/vnd.jupyter.widget-view+json": {
       "model_id": "",
       "version_major": 2,
       "version_minor": 0
      },
      "text/plain": [
       "  0%|          | 0/60 [00:00<?, ?it/s]"
      ]
     },
     "metadata": {},
     "output_type": "display_data"
    },
    {
     "name": "stdout",
     "output_type": "stream",
     "text": [
      "0.8702892199824716\n",
      "0.782707447305803\n",
      "epoch 15, tr_loss 0.08955722997996433, te_loss 1.002398681640625\n",
      "running epoch 16, best test loss 100000.0 after epoch 15\n"
     ]
    },
    {
     "data": {
      "application/vnd.jupyter.widget-view+json": {
       "model_id": "",
       "version_major": 2,
       "version_minor": 0
      },
      "text/plain": [
       "  0%|          | 0/121 [00:00<?, ?it/s]"
      ]
     },
     "metadata": {},
     "output_type": "display_data"
    },
    {
     "data": {
      "application/vnd.jupyter.widget-view+json": {
       "model_id": "",
       "version_major": 2,
       "version_minor": 0
      },
      "text/plain": [
       "  0%|          | 0/60 [00:00<?, ?it/s]"
      ]
     },
     "metadata": {},
     "output_type": "display_data"
    },
    {
     "name": "stdout",
     "output_type": "stream",
     "text": [
      "0.866783523225241\n",
      "0.7649767407592856\n",
      "epoch 16, tr_loss 0.08970153430276666, te_loss 1.0907023111979166\n",
      "running epoch 17, best test loss 100000.0 after epoch 16\n"
     ]
    },
    {
     "data": {
      "application/vnd.jupyter.widget-view+json": {
       "model_id": "",
       "version_major": 2,
       "version_minor": 0
      },
      "text/plain": [
       "  0%|          | 0/121 [00:00<?, ?it/s]"
      ]
     },
     "metadata": {},
     "output_type": "display_data"
    },
    {
     "data": {
      "application/vnd.jupyter.widget-view+json": {
       "model_id": "",
       "version_major": 2,
       "version_minor": 0
      },
      "text/plain": [
       "  0%|          | 0/60 [00:00<?, ?it/s]"
      ]
     },
     "metadata": {},
     "output_type": "display_data"
    },
    {
     "name": "stdout",
     "output_type": "stream",
     "text": [
      "0.8676599474145487\n",
      "0.7800827150662405\n",
      "epoch 17, tr_loss 0.0699801070631043, te_loss 1.107177734375\n",
      "running epoch 18, best test loss 100000.0 after epoch 17\n"
     ]
    },
    {
     "data": {
      "application/vnd.jupyter.widget-view+json": {
       "model_id": "",
       "version_major": 2,
       "version_minor": 0
      },
      "text/plain": [
       "  0%|          | 0/121 [00:00<?, ?it/s]"
      ]
     },
     "metadata": {},
     "output_type": "display_data"
    },
    {
     "data": {
      "application/vnd.jupyter.widget-view+json": {
       "model_id": "",
       "version_major": 2,
       "version_minor": 0
      },
      "text/plain": [
       "  0%|          | 0/60 [00:00<?, ?it/s]"
      ]
     },
     "metadata": {},
     "output_type": "display_data"
    },
    {
     "name": "stdout",
     "output_type": "stream",
     "text": [
      "0.8746713409290097\n",
      "0.7390382007495936\n",
      "epoch 18, tr_loss 0.092016661462705, te_loss 1.30247802734375\n",
      "running epoch 19, best test loss 100000.0 after epoch 18\n"
     ]
    },
    {
     "data": {
      "application/vnd.jupyter.widget-view+json": {
       "model_id": "",
       "version_major": 2,
       "version_minor": 0
      },
      "text/plain": [
       "  0%|          | 0/121 [00:00<?, ?it/s]"
      ]
     },
     "metadata": {},
     "output_type": "display_data"
    },
    {
     "data": {
      "application/vnd.jupyter.widget-view+json": {
       "model_id": "",
       "version_major": 2,
       "version_minor": 0
      },
      "text/plain": [
       "  0%|          | 0/60 [00:00<?, ?it/s]"
      ]
     },
     "metadata": {},
     "output_type": "display_data"
    },
    {
     "name": "stdout",
     "output_type": "stream",
     "text": [
      "0.8764241893076249\n",
      "0.7459898236239516\n",
      "epoch 19, tr_loss 0.08955850088891905, te_loss 1.153093973795573\n",
      "running epoch 20, best test loss 100000.0 after epoch 19\n"
     ]
    },
    {
     "data": {
      "application/vnd.jupyter.widget-view+json": {
       "model_id": "",
       "version_major": 2,
       "version_minor": 0
      },
      "text/plain": [
       "  0%|          | 0/121 [00:00<?, ?it/s]"
      ]
     },
     "metadata": {},
     "output_type": "display_data"
    },
    {
     "data": {
      "application/vnd.jupyter.widget-view+json": {
       "model_id": "",
       "version_major": 2,
       "version_minor": 0
      },
      "text/plain": [
       "  0%|          | 0/60 [00:00<?, ?it/s]"
      ]
     },
     "metadata": {},
     "output_type": "display_data"
    },
    {
     "name": "stdout",
     "output_type": "stream",
     "text": [
      "0.8659070990359334\n",
      "0.7320190999605336\n",
      "epoch 20, tr_loss 0.08082048163926306, te_loss 1.121631876627604\n",
      "running epoch 21, best test loss 100000.0 after epoch 20\n"
     ]
    },
    {
     "data": {
      "application/vnd.jupyter.widget-view+json": {
       "model_id": "",
       "version_major": 2,
       "version_minor": 0
      },
      "text/plain": [
       "  0%|          | 0/121 [00:00<?, ?it/s]"
      ]
     },
     "metadata": {},
     "output_type": "display_data"
    },
    {
     "data": {
      "application/vnd.jupyter.widget-view+json": {
       "model_id": "",
       "version_major": 2,
       "version_minor": 0
      },
      "text/plain": [
       "  0%|          | 0/60 [00:00<?, ?it/s]"
      ]
     },
     "metadata": {},
     "output_type": "display_data"
    },
    {
     "name": "stdout",
     "output_type": "stream",
     "text": [
      "0.8773006134969326\n",
      "0.7783927058498252\n",
      "epoch 21, tr_loss 0.0849129739871695, te_loss 1.269720458984375\n",
      "running epoch 22, best test loss 100000.0 after epoch 21\n"
     ]
    },
    {
     "data": {
      "application/vnd.jupyter.widget-view+json": {
       "model_id": "",
       "version_major": 2,
       "version_minor": 0
      },
      "text/plain": [
       "  0%|          | 0/121 [00:00<?, ?it/s]"
      ]
     },
     "metadata": {},
     "output_type": "display_data"
    },
    {
     "data": {
      "application/vnd.jupyter.widget-view+json": {
       "model_id": "",
       "version_major": 2,
       "version_minor": 0
      },
      "text/plain": [
       "  0%|          | 0/60 [00:00<?, ?it/s]"
      ]
     },
     "metadata": {},
     "output_type": "display_data"
    },
    {
     "name": "stdout",
     "output_type": "stream",
     "text": [
      "0.8799298860648553\n",
      "0.7786841013634312\n",
      "epoch 22, tr_loss 0.06999445749708444, te_loss 1.0880513509114584\n",
      "running epoch 23, best test loss 100000.0 after epoch 22\n"
     ]
    },
    {
     "data": {
      "application/vnd.jupyter.widget-view+json": {
       "model_id": "",
       "version_major": 2,
       "version_minor": 0
      },
      "text/plain": [
       "  0%|          | 0/121 [00:00<?, ?it/s]"
      ]
     },
     "metadata": {},
     "output_type": "display_data"
    },
    {
     "data": {
      "application/vnd.jupyter.widget-view+json": {
       "model_id": "",
       "version_major": 2,
       "version_minor": 0
      },
      "text/plain": [
       "  0%|          | 0/60 [00:00<?, ?it/s]"
      ]
     },
     "metadata": {},
     "output_type": "display_data"
    },
    {
     "name": "stdout",
     "output_type": "stream",
     "text": [
      "0.8729184925503944\n",
      "0.7676647428082457\n",
      "epoch 23, tr_loss 0.07673182369263704, te_loss 1.2925008138020833\n",
      "running epoch 24, best test loss 100000.0 after epoch 23\n"
     ]
    },
    {
     "data": {
      "application/vnd.jupyter.widget-view+json": {
       "model_id": "",
       "version_major": 2,
       "version_minor": 0
      },
      "text/plain": [
       "  0%|          | 0/121 [00:00<?, ?it/s]"
      ]
     },
     "metadata": {},
     "output_type": "display_data"
    },
    {
     "data": {
      "application/vnd.jupyter.widget-view+json": {
       "model_id": "",
       "version_major": 2,
       "version_minor": 0
      },
      "text/plain": [
       "  0%|          | 0/60 [00:00<?, ?it/s]"
      ]
     },
     "metadata": {},
     "output_type": "display_data"
    },
    {
     "name": "stdout",
     "output_type": "stream",
     "text": [
      "0.8799298860648553\n",
      "0.7899751324834133\n",
      "epoch 24, tr_loss 0.058073343324267175, te_loss 1.2001444498697917\n",
      "running epoch 25, best test loss 100000.0 after epoch 24\n"
     ]
    },
    {
     "data": {
      "application/vnd.jupyter.widget-view+json": {
       "model_id": "",
       "version_major": 2,
       "version_minor": 0
      },
      "text/plain": [
       "  0%|          | 0/121 [00:00<?, ?it/s]"
      ]
     },
     "metadata": {},
     "output_type": "display_data"
    },
    {
     "data": {
      "application/vnd.jupyter.widget-view+json": {
       "model_id": "",
       "version_major": 2,
       "version_minor": 0
      },
      "text/plain": [
       "  0%|          | 0/60 [00:00<?, ?it/s]"
      ]
     },
     "metadata": {},
     "output_type": "display_data"
    },
    {
     "name": "stdout",
     "output_type": "stream",
     "text": [
      "0.8825591586327782\n",
      "0.7770466794776706\n",
      "epoch 25, tr_loss 0.06494149294766513, te_loss 1.2725545247395833\n",
      "running epoch 26, best test loss 100000.0 after epoch 25\n"
     ]
    },
    {
     "data": {
      "application/vnd.jupyter.widget-view+json": {
       "model_id": "",
       "version_major": 2,
       "version_minor": 0
      },
      "text/plain": [
       "  0%|          | 0/121 [00:00<?, ?it/s]"
      ]
     },
     "metadata": {},
     "output_type": "display_data"
    },
    {
     "data": {
      "application/vnd.jupyter.widget-view+json": {
       "model_id": "",
       "version_major": 2,
       "version_minor": 0
      },
      "text/plain": [
       "  0%|          | 0/60 [00:00<?, ?it/s]"
      ]
     },
     "metadata": {},
     "output_type": "display_data"
    },
    {
     "name": "stdout",
     "output_type": "stream",
     "text": [
      "0.8904469763365469\n",
      "0.7732360824035631\n",
      "epoch 26, tr_loss 0.06159838369070006, te_loss 1.2490580240885416\n",
      "running epoch 27, best test loss 100000.0 after epoch 26\n"
     ]
    },
    {
     "data": {
      "application/vnd.jupyter.widget-view+json": {
       "model_id": "",
       "version_major": 2,
       "version_minor": 0
      },
      "text/plain": [
       "  0%|          | 0/121 [00:00<?, ?it/s]"
      ]
     },
     "metadata": {},
     "output_type": "display_data"
    },
    {
     "data": {
      "application/vnd.jupyter.widget-view+json": {
       "model_id": "",
       "version_major": 2,
       "version_minor": 0
      },
      "text/plain": [
       "  0%|          | 0/60 [00:00<?, ?it/s]"
      ]
     },
     "metadata": {},
     "output_type": "display_data"
    },
    {
     "name": "stdout",
     "output_type": "stream",
     "text": [
      "0.8834355828220859\n",
      "0.7609683278886289\n",
      "epoch 27, tr_loss 0.05505977386285451, te_loss 1.1704569498697917\n",
      "running epoch 28, best test loss 100000.0 after epoch 27\n"
     ]
    },
    {
     "data": {
      "application/vnd.jupyter.widget-view+json": {
       "model_id": "",
       "version_major": 2,
       "version_minor": 0
      },
      "text/plain": [
       "  0%|          | 0/121 [00:00<?, ?it/s]"
      ]
     },
     "metadata": {},
     "output_type": "display_data"
    },
    {
     "data": {
      "application/vnd.jupyter.widget-view+json": {
       "model_id": "",
       "version_major": 2,
       "version_minor": 0
      },
      "text/plain": [
       "  0%|          | 0/60 [00:00<?, ?it/s]"
      ]
     },
     "metadata": {},
     "output_type": "display_data"
    },
    {
     "name": "stdout",
     "output_type": "stream",
     "text": [
      "0.8755477651183172\n",
      "0.7579702613835485\n",
      "epoch 28, tr_loss 0.057528474114157936, te_loss 1.1570149739583333\n",
      "running epoch 29, best test loss 100000.0 after epoch 28\n"
     ]
    },
    {
     "data": {
      "application/vnd.jupyter.widget-view+json": {
       "model_id": "",
       "version_major": 2,
       "version_minor": 0
      },
      "text/plain": [
       "  0%|          | 0/121 [00:00<?, ?it/s]"
      ]
     },
     "metadata": {},
     "output_type": "display_data"
    },
    {
     "data": {
      "application/vnd.jupyter.widget-view+json": {
       "model_id": "",
       "version_major": 2,
       "version_minor": 0
      },
      "text/plain": [
       "  0%|          | 0/60 [00:00<?, ?it/s]"
      ]
     },
     "metadata": {},
     "output_type": "display_data"
    },
    {
     "name": "stdout",
     "output_type": "stream",
     "text": [
      "0.880806310254163\n",
      "0.7845257492948422\n",
      "epoch 29, tr_loss 0.051032539241570085, te_loss 1.2309224446614584\n",
      "running epoch 30, best test loss 100000.0 after epoch 29\n"
     ]
    },
    {
     "data": {
      "application/vnd.jupyter.widget-view+json": {
       "model_id": "",
       "version_major": 2,
       "version_minor": 0
      },
      "text/plain": [
       "  0%|          | 0/121 [00:00<?, ?it/s]"
      ]
     },
     "metadata": {},
     "output_type": "display_data"
    },
    {
     "data": {
      "application/vnd.jupyter.widget-view+json": {
       "model_id": "",
       "version_major": 2,
       "version_minor": 0
      },
      "text/plain": [
       "  0%|          | 0/60 [00:00<?, ?it/s]"
      ]
     },
     "metadata": {},
     "output_type": "display_data"
    },
    {
     "name": "stdout",
     "output_type": "stream",
     "text": [
      "0.8825591586327782\n",
      "0.7854705751728029\n",
      "epoch 30, tr_loss 0.05802321434020996, te_loss 1.241382853190104\n",
      "running epoch 31, best test loss 100000.0 after epoch 30\n"
     ]
    },
    {
     "data": {
      "application/vnd.jupyter.widget-view+json": {
       "model_id": "",
       "version_major": 2,
       "version_minor": 0
      },
      "text/plain": [
       "  0%|          | 0/121 [00:00<?, ?it/s]"
      ]
     },
     "metadata": {},
     "output_type": "display_data"
    },
    {
     "data": {
      "application/vnd.jupyter.widget-view+json": {
       "model_id": "",
       "version_major": 2,
       "version_minor": 0
      },
      "text/plain": [
       "  0%|          | 0/60 [00:00<?, ?it/s]"
      ]
     },
     "metadata": {},
     "output_type": "display_data"
    },
    {
     "name": "stdout",
     "output_type": "stream",
     "text": [
      "0.8816827344434707\n",
      "0.7857061387042542\n",
      "epoch 31, tr_loss 0.053424196794998546, te_loss 1.2202921549479167\n",
      "running epoch 32, best test loss 100000.0 after epoch 31\n"
     ]
    },
    {
     "data": {
      "application/vnd.jupyter.widget-view+json": {
       "model_id": "",
       "version_major": 2,
       "version_minor": 0
      },
      "text/plain": [
       "  0%|          | 0/121 [00:00<?, ?it/s]"
      ]
     },
     "metadata": {},
     "output_type": "display_data"
    },
    {
     "data": {
      "application/vnd.jupyter.widget-view+json": {
       "model_id": "",
       "version_major": 2,
       "version_minor": 0
      },
      "text/plain": [
       "  0%|          | 0/60 [00:00<?, ?it/s]"
      ]
     },
     "metadata": {},
     "output_type": "display_data"
    },
    {
     "name": "stdout",
     "output_type": "stream",
     "text": [
      "0.8843120070113936\n",
      "0.7891457849523541\n",
      "epoch 32, tr_loss 0.06457295053261371, te_loss 1.24639892578125\n",
      "running epoch 33, best test loss 100000.0 after epoch 32\n"
     ]
    },
    {
     "data": {
      "application/vnd.jupyter.widget-view+json": {
       "model_id": "",
       "version_major": 2,
       "version_minor": 0
      },
      "text/plain": [
       "  0%|          | 0/121 [00:00<?, ?it/s]"
      ]
     },
     "metadata": {},
     "output_type": "display_data"
    },
    {
     "data": {
      "application/vnd.jupyter.widget-view+json": {
       "model_id": "",
       "version_major": 2,
       "version_minor": 0
      },
      "text/plain": [
       "  0%|          | 0/60 [00:00<?, ?it/s]"
      ]
     },
     "metadata": {},
     "output_type": "display_data"
    },
    {
     "name": "stdout",
     "output_type": "stream",
     "text": [
      "0.8843120070113936\n",
      "0.7892986572143789\n",
      "epoch 33, tr_loss 0.045320481308235606, te_loss 1.2396402994791667\n",
      "running epoch 34, best test loss 100000.0 after epoch 33\n"
     ]
    },
    {
     "data": {
      "application/vnd.jupyter.widget-view+json": {
       "model_id": "",
       "version_major": 2,
       "version_minor": 0
      },
      "text/plain": [
       "  0%|          | 0/121 [00:00<?, ?it/s]"
      ]
     },
     "metadata": {},
     "output_type": "display_data"
    },
    {
     "data": {
      "application/vnd.jupyter.widget-view+json": {
       "model_id": "",
       "version_major": 2,
       "version_minor": 0
      },
      "text/plain": [
       "  0%|          | 0/60 [00:00<?, ?it/s]"
      ]
     },
     "metadata": {},
     "output_type": "display_data"
    },
    {
     "name": "stdout",
     "output_type": "stream",
     "text": [
      "0.8869412795793163\n",
      "0.7928703908931733\n",
      "epoch 34, tr_loss 0.05017844901597204, te_loss 1.2311238606770833\n",
      "running epoch 35, best test loss 100000.0 after epoch 34\n"
     ]
    },
    {
     "data": {
      "application/vnd.jupyter.widget-view+json": {
       "model_id": "",
       "version_major": 2,
       "version_minor": 0
      },
      "text/plain": [
       "  0%|          | 0/121 [00:00<?, ?it/s]"
      ]
     },
     "metadata": {},
     "output_type": "display_data"
    },
    {
     "data": {
      "application/vnd.jupyter.widget-view+json": {
       "model_id": "",
       "version_major": 2,
       "version_minor": 0
      },
      "text/plain": [
       "  0%|          | 0/60 [00:00<?, ?it/s]"
      ]
     },
     "metadata": {},
     "output_type": "display_data"
    },
    {
     "name": "stdout",
     "output_type": "stream",
     "text": [
      "0.8860648553900088\n",
      "0.7926907869554437\n",
      "epoch 35, tr_loss 0.04466568142914575, te_loss 1.2037109375\n",
      "running epoch 36, best test loss 100000.0 after epoch 35\n"
     ]
    },
    {
     "data": {
      "application/vnd.jupyter.widget-view+json": {
       "model_id": "",
       "version_major": 2,
       "version_minor": 0
      },
      "text/plain": [
       "  0%|          | 0/121 [00:00<?, ?it/s]"
      ]
     },
     "metadata": {},
     "output_type": "display_data"
    },
    {
     "data": {
      "application/vnd.jupyter.widget-view+json": {
       "model_id": "",
       "version_major": 2,
       "version_minor": 0
      },
      "text/plain": [
       "  0%|          | 0/60 [00:00<?, ?it/s]"
      ]
     },
     "metadata": {},
     "output_type": "display_data"
    },
    {
     "name": "stdout",
     "output_type": "stream",
     "text": [
      "0.8860648553900088\n",
      "0.792198876281802\n",
      "epoch 36, tr_loss 0.057842018190494254, te_loss 1.2416229248046875\n",
      "running epoch 37, best test loss 100000.0 after epoch 36\n"
     ]
    },
    {
     "data": {
      "application/vnd.jupyter.widget-view+json": {
       "model_id": "",
       "version_major": 2,
       "version_minor": 0
      },
      "text/plain": [
       "  0%|          | 0/121 [00:00<?, ?it/s]"
      ]
     },
     "metadata": {},
     "output_type": "display_data"
    },
    {
     "data": {
      "application/vnd.jupyter.widget-view+json": {
       "model_id": "",
       "version_major": 2,
       "version_minor": 0
      },
      "text/plain": [
       "  0%|          | 0/60 [00:00<?, ?it/s]"
      ]
     },
     "metadata": {},
     "output_type": "display_data"
    },
    {
     "name": "stdout",
     "output_type": "stream",
     "text": [
      "0.8869412795793163\n",
      "0.7922747508771979\n",
      "epoch 37, tr_loss 0.049603383403179074, te_loss 1.2303548177083334\n",
      "running epoch 38, best test loss 100000.0 after epoch 37\n"
     ]
    },
    {
     "data": {
      "application/vnd.jupyter.widget-view+json": {
       "model_id": "",
       "version_major": 2,
       "version_minor": 0
      },
      "text/plain": [
       "  0%|          | 0/121 [00:00<?, ?it/s]"
      ]
     },
     "metadata": {},
     "output_type": "display_data"
    },
    {
     "data": {
      "application/vnd.jupyter.widget-view+json": {
       "model_id": "",
       "version_major": 2,
       "version_minor": 0
      },
      "text/plain": [
       "  0%|          | 0/60 [00:00<?, ?it/s]"
      ]
     },
     "metadata": {},
     "output_type": "display_data"
    },
    {
     "name": "stdout",
     "output_type": "stream",
     "text": [
      "0.8860648553900088\n",
      "0.792198876281802\n",
      "epoch 38, tr_loss 0.055849400433627044, te_loss 1.1948038736979167\n",
      "running epoch 39, best test loss 100000.0 after epoch 38\n"
     ]
    },
    {
     "data": {
      "application/vnd.jupyter.widget-view+json": {
       "model_id": "",
       "version_major": 2,
       "version_minor": 0
      },
      "text/plain": [
       "  0%|          | 0/121 [00:00<?, ?it/s]"
      ]
     },
     "metadata": {},
     "output_type": "display_data"
    },
    {
     "data": {
      "application/vnd.jupyter.widget-view+json": {
       "model_id": "",
       "version_major": 2,
       "version_minor": 0
      },
      "text/plain": [
       "  0%|          | 0/60 [00:00<?, ?it/s]"
      ]
     },
     "metadata": {},
     "output_type": "display_data"
    },
    {
     "name": "stdout",
     "output_type": "stream",
     "text": [
      "0.8869412795793163\n",
      "0.7928703908931733\n",
      "epoch 39, tr_loss 0.05190930878820498, te_loss 1.2280354817708334\n"
     ]
    }
   ],
   "source": [
    "best_f1 = 1e-5\n",
    "best_ep = -1\n",
    "ans = x_test['label_index'].to_list()\n",
    "best_te_loss = 1e5\n",
    "f1_ls = []\n",
    "\n",
    "\n",
    "for epoch in range(EPOCH):\n",
    "    print(f\"running epoch {epoch}, best test loss {best_te_loss} after epoch {best_ep}\")\n",
    "    step = 0\n",
    "    tr_loss = 0\n",
    "    model.train()\n",
    "    pbar = tqdm(train_dataloader, leave=False)\n",
    "    for batch in pbar:\n",
    "        step += 1\n",
    "        optimizer.zero_grad()\n",
    "\n",
    "        images, texts, _ = batch\n",
    "        images = images.to(device)\n",
    "        texts = clip.tokenize(texts).to(device)\n",
    "        #print(images.shape, texts.shape)\n",
    "        logits_per_image, logits_per_text = model(images, texts)\n",
    "        ground_truth = torch.arange(BATCH_SIZE).to(device)\n",
    "\n",
    "        total_loss = (loss_img(logits_per_image,ground_truth) + loss_txt(logits_per_text,ground_truth))/2\n",
    "        total_loss.backward()\n",
    "        tr_loss += total_loss.item()\n",
    "        if device == \"cpu\":\n",
    "            optimizer.step()\n",
    "            scheduler.step()\n",
    "        else:\n",
    "            convert_models_to_fp32(model)\n",
    "            optimizer.step()\n",
    "            scheduler.step()\n",
    "            clip.model.convert_weights(model)\n",
    "        pbar.set_description(f\"train batchCE: {total_loss.item()}\", refresh=True)\n",
    "    tr_loss /= step\n",
    "    \n",
    "    step = 0\n",
    "    te_loss = 0\n",
    "    with torch.no_grad():\n",
    "        model.eval()\n",
    "        test_pbar = tqdm(test_dataloader, leave=False)\n",
    "        for batch in test_pbar:\n",
    "            step += 1\n",
    "            images, texts, _ = batch\n",
    "            images = images.to(device)\n",
    "            texts = clip.tokenize(texts).to(device)\n",
    "            logits_per_image, logits_per_text = model(images, texts)\n",
    "            ground_truth = torch.arange(BATCH_SIZE).to(device)\n",
    "\n",
    "            total_loss = (loss_img(logits_per_image,ground_truth) + loss_txt(logits_per_text,ground_truth))/2\n",
    "            te_loss += total_loss.item()\n",
    "            test_pbar.set_description(f\"test batchCE: {total_loss.item()}\", refresh=True)\n",
    "        te_loss /= step\n",
    "        \n",
    "    preds = []\n",
    "    for image in x_test['image']:\n",
    "        image = preprocess(Image.open(image)).unsqueeze(0).to(device)\n",
    "        text = clip.tokenize(text_label).to(device)\n",
    "\n",
    "        with torch.no_grad():\n",
    "            image_features = model.encode_image(image)\n",
    "            text_features = model.encode_text(text)\n",
    "\n",
    "            logits_per_image, logits_per_text = model(image, text)\n",
    "            probs = logits_per_image.softmax(dim=-1).cpu()\n",
    "            prob_idx = probs.argmax()\n",
    "            preds.append(prob_idx)\n",
    "            \n",
    "            \n",
    "    ans = x_test['label_index'].to_list()\n",
    "    print(metrics.accuracy_score(ans, preds))\n",
    "    f1_acc = metrics.f1_score(ans, preds, average = 'macro')\n",
    "    print(f1_acc)\n",
    "    f1_ls.append(f1_acc)\n",
    "            \n",
    "            \n",
    "\n",
    "    if best_f1 < f1_acc:\n",
    "        best_f1_acc = f1_acc\n",
    "        best_ep = epoch\n",
    "        torch.save(model.state_dict(), \"./best_model_change_val336gpuno2f.pt\")\n",
    "        \n",
    "    print(f\"epoch {epoch}, tr_loss {tr_loss}, te_loss {te_loss}\")\n",
    "torch.save(model.state_dict(), \"./lasttr224_model25.pt\")"
   ]
  },
  {
   "cell_type": "code",
   "execution_count": null,
   "id": "4839538f",
   "metadata": {
    "scrolled": true
   },
   "outputs": [],
   "source": [
    "!ls"
   ]
  },
  {
   "cell_type": "code",
   "execution_count": 30,
   "id": "47df13e2",
   "metadata": {},
   "outputs": [
    {
     "data": {
      "text/plain": [
       "<All keys matched successfully>"
      ]
     },
     "execution_count": 30,
     "metadata": {},
     "output_type": "execute_result"
    }
   ],
   "source": [
    "model.load_state_dict(torch.load(\"./best_model_change_val336gpuno2f.pt\"))"
   ]
  },
  {
   "cell_type": "markdown",
   "id": "2a5f212e",
   "metadata": {},
   "source": [
    "## validate model"
   ]
  },
  {
   "cell_type": "code",
   "execution_count": 31,
   "id": "bad29643",
   "metadata": {},
   "outputs": [],
   "source": [
    "import glob\n",
    "test_ls = glob.glob('./test/*.png')"
   ]
  },
  {
   "cell_type": "code",
   "execution_count": 32,
   "id": "cf44a646",
   "metadata": {},
   "outputs": [],
   "source": [
    "test_ls.sort()"
   ]
  },
  {
   "cell_type": "code",
   "execution_count": 33,
   "id": "be5b34d5",
   "metadata": {},
   "outputs": [],
   "source": [
    "from sklearn import metrics"
   ]
  },
  {
   "cell_type": "code",
   "execution_count": 34,
   "id": "966b4b7f",
   "metadata": {},
   "outputs": [
    {
     "data": {
      "text/plain": [
       "['./test/000.png',\n",
       " './test/001.png',\n",
       " './test/002.png',\n",
       " './test/003.png',\n",
       " './test/004.png',\n",
       " './test/005.png',\n",
       " './test/006.png',\n",
       " './test/007.png',\n",
       " './test/008.png',\n",
       " './test/009.png',\n",
       " './test/010.png',\n",
       " './test/011.png',\n",
       " './test/012.png',\n",
       " './test/013.png',\n",
       " './test/014.png',\n",
       " './test/015.png',\n",
       " './test/016.png',\n",
       " './test/017.png',\n",
       " './test/018.png',\n",
       " './test/019.png',\n",
       " './test/020.png',\n",
       " './test/021.png',\n",
       " './test/022.png',\n",
       " './test/023.png',\n",
       " './test/024.png',\n",
       " './test/025.png',\n",
       " './test/026.png',\n",
       " './test/027.png',\n",
       " './test/028.png',\n",
       " './test/029.png',\n",
       " './test/030.png',\n",
       " './test/031.png',\n",
       " './test/032.png',\n",
       " './test/033.png',\n",
       " './test/034.png',\n",
       " './test/035.png',\n",
       " './test/036.png',\n",
       " './test/037.png',\n",
       " './test/038.png',\n",
       " './test/039.png',\n",
       " './test/040.png',\n",
       " './test/041.png',\n",
       " './test/042.png',\n",
       " './test/043.png',\n",
       " './test/044.png',\n",
       " './test/045.png',\n",
       " './test/046.png',\n",
       " './test/047.png',\n",
       " './test/048.png',\n",
       " './test/049.png',\n",
       " './test/050.png',\n",
       " './test/051.png',\n",
       " './test/052.png',\n",
       " './test/053.png',\n",
       " './test/054.png',\n",
       " './test/055.png',\n",
       " './test/056.png',\n",
       " './test/057.png',\n",
       " './test/058.png',\n",
       " './test/059.png',\n",
       " './test/060.png',\n",
       " './test/061.png',\n",
       " './test/062.png',\n",
       " './test/063.png',\n",
       " './test/064.png',\n",
       " './test/065.png',\n",
       " './test/066.png',\n",
       " './test/067.png',\n",
       " './test/068.png',\n",
       " './test/069.png',\n",
       " './test/070.png',\n",
       " './test/071.png',\n",
       " './test/072.png',\n",
       " './test/073.png',\n",
       " './test/074.png',\n",
       " './test/075.png',\n",
       " './test/076.png',\n",
       " './test/077.png',\n",
       " './test/078.png',\n",
       " './test/079.png',\n",
       " './test/080.png',\n",
       " './test/081.png',\n",
       " './test/082.png',\n",
       " './test/083.png',\n",
       " './test/084.png',\n",
       " './test/085.png',\n",
       " './test/086.png',\n",
       " './test/087.png',\n",
       " './test/088.png',\n",
       " './test/089.png',\n",
       " './test/090.png',\n",
       " './test/091.png',\n",
       " './test/092.png',\n",
       " './test/093.png',\n",
       " './test/094.png',\n",
       " './test/095.png',\n",
       " './test/096.png',\n",
       " './test/097.png',\n",
       " './test/098.png',\n",
       " './test/099.png',\n",
       " './test/100.png',\n",
       " './test/101.png',\n",
       " './test/102.png',\n",
       " './test/103.png',\n",
       " './test/104.png',\n",
       " './test/105.png',\n",
       " './test/106.png',\n",
       " './test/107.png',\n",
       " './test/108.png',\n",
       " './test/109.png',\n",
       " './test/110.png',\n",
       " './test/111.png',\n",
       " './test/112.png',\n",
       " './test/113.png',\n",
       " './test/114.png',\n",
       " './test/115.png',\n",
       " './test/116.png',\n",
       " './test/117.png',\n",
       " './test/118.png',\n",
       " './test/119.png',\n",
       " './test/120.png',\n",
       " './test/121.png',\n",
       " './test/122.png',\n",
       " './test/123.png',\n",
       " './test/124.png',\n",
       " './test/125.png',\n",
       " './test/126.png',\n",
       " './test/127.png',\n",
       " './test/128.png',\n",
       " './test/129.png',\n",
       " './test/130.png',\n",
       " './test/131.png',\n",
       " './test/132.png',\n",
       " './test/133.png',\n",
       " './test/134.png',\n",
       " './test/135.png',\n",
       " './test/136.png',\n",
       " './test/137.png',\n",
       " './test/138.png',\n",
       " './test/139.png',\n",
       " './test/140.png',\n",
       " './test/141.png',\n",
       " './test/142.png',\n",
       " './test/143.png',\n",
       " './test/144.png',\n",
       " './test/145.png',\n",
       " './test/146.png',\n",
       " './test/147.png',\n",
       " './test/148.png',\n",
       " './test/149.png',\n",
       " './test/150.png',\n",
       " './test/151.png',\n",
       " './test/152.png',\n",
       " './test/153.png',\n",
       " './test/154.png',\n",
       " './test/155.png',\n",
       " './test/156.png',\n",
       " './test/157.png',\n",
       " './test/158.png',\n",
       " './test/159.png',\n",
       " './test/160.png',\n",
       " './test/161.png',\n",
       " './test/162.png',\n",
       " './test/163.png',\n",
       " './test/164.png',\n",
       " './test/165.png',\n",
       " './test/166.png',\n",
       " './test/167.png',\n",
       " './test/168.png',\n",
       " './test/169.png',\n",
       " './test/170.png',\n",
       " './test/171.png',\n",
       " './test/172.png',\n",
       " './test/173.png',\n",
       " './test/174.png',\n",
       " './test/175.png',\n",
       " './test/176.png',\n",
       " './test/177.png',\n",
       " './test/178.png',\n",
       " './test/179.png',\n",
       " './test/180.png',\n",
       " './test/181.png',\n",
       " './test/182.png',\n",
       " './test/183.png',\n",
       " './test/184.png',\n",
       " './test/185.png',\n",
       " './test/186.png',\n",
       " './test/187.png',\n",
       " './test/188.png',\n",
       " './test/189.png',\n",
       " './test/190.png',\n",
       " './test/191.png',\n",
       " './test/192.png',\n",
       " './test/193.png',\n",
       " './test/194.png',\n",
       " './test/195.png',\n",
       " './test/196.png',\n",
       " './test/197.png',\n",
       " './test/198.png',\n",
       " './test/199.png',\n",
       " './test/200.png',\n",
       " './test/201.png',\n",
       " './test/202.png',\n",
       " './test/203.png',\n",
       " './test/204.png',\n",
       " './test/205.png',\n",
       " './test/206.png',\n",
       " './test/207.png',\n",
       " './test/208.png',\n",
       " './test/209.png',\n",
       " './test/210.png',\n",
       " './test/211.png',\n",
       " './test/212.png',\n",
       " './test/213.png',\n",
       " './test/214.png',\n",
       " './test/215.png',\n",
       " './test/216.png',\n",
       " './test/217.png',\n",
       " './test/218.png',\n",
       " './test/219.png',\n",
       " './test/220.png',\n",
       " './test/221.png',\n",
       " './test/222.png',\n",
       " './test/223.png',\n",
       " './test/224.png',\n",
       " './test/225.png',\n",
       " './test/226.png',\n",
       " './test/227.png',\n",
       " './test/228.png',\n",
       " './test/229.png',\n",
       " './test/230.png',\n",
       " './test/231.png',\n",
       " './test/232.png',\n",
       " './test/233.png',\n",
       " './test/234.png',\n",
       " './test/235.png',\n",
       " './test/236.png',\n",
       " './test/237.png',\n",
       " './test/238.png',\n",
       " './test/239.png',\n",
       " './test/240.png',\n",
       " './test/241.png',\n",
       " './test/242.png',\n",
       " './test/243.png',\n",
       " './test/244.png',\n",
       " './test/245.png',\n",
       " './test/246.png',\n",
       " './test/247.png',\n",
       " './test/248.png',\n",
       " './test/249.png',\n",
       " './test/250.png',\n",
       " './test/251.png',\n",
       " './test/252.png',\n",
       " './test/253.png',\n",
       " './test/254.png',\n",
       " './test/255.png',\n",
       " './test/256.png',\n",
       " './test/257.png',\n",
       " './test/258.png',\n",
       " './test/259.png',\n",
       " './test/260.png',\n",
       " './test/261.png',\n",
       " './test/262.png',\n",
       " './test/263.png',\n",
       " './test/264.png',\n",
       " './test/265.png',\n",
       " './test/266.png',\n",
       " './test/267.png',\n",
       " './test/268.png',\n",
       " './test/269.png',\n",
       " './test/270.png',\n",
       " './test/271.png',\n",
       " './test/272.png',\n",
       " './test/273.png',\n",
       " './test/274.png',\n",
       " './test/275.png',\n",
       " './test/276.png',\n",
       " './test/277.png',\n",
       " './test/278.png',\n",
       " './test/279.png',\n",
       " './test/280.png',\n",
       " './test/281.png',\n",
       " './test/282.png',\n",
       " './test/283.png',\n",
       " './test/284.png',\n",
       " './test/285.png',\n",
       " './test/286.png',\n",
       " './test/287.png',\n",
       " './test/288.png',\n",
       " './test/289.png',\n",
       " './test/290.png',\n",
       " './test/291.png',\n",
       " './test/292.png',\n",
       " './test/293.png',\n",
       " './test/294.png',\n",
       " './test/295.png',\n",
       " './test/296.png',\n",
       " './test/297.png',\n",
       " './test/298.png',\n",
       " './test/299.png',\n",
       " './test/300.png',\n",
       " './test/301.png',\n",
       " './test/302.png',\n",
       " './test/303.png',\n",
       " './test/304.png',\n",
       " './test/305.png',\n",
       " './test/306.png',\n",
       " './test/307.png',\n",
       " './test/308.png',\n",
       " './test/309.png',\n",
       " './test/310.png',\n",
       " './test/311.png',\n",
       " './test/312.png',\n",
       " './test/313.png',\n",
       " './test/314.png',\n",
       " './test/315.png',\n",
       " './test/316.png',\n",
       " './test/317.png',\n",
       " './test/318.png',\n",
       " './test/319.png',\n",
       " './test/320.png',\n",
       " './test/321.png',\n",
       " './test/322.png',\n",
       " './test/323.png',\n",
       " './test/324.png',\n",
       " './test/325.png',\n",
       " './test/326.png',\n",
       " './test/327.png',\n",
       " './test/328.png',\n",
       " './test/329.png',\n",
       " './test/330.png',\n",
       " './test/331.png',\n",
       " './test/332.png',\n",
       " './test/333.png',\n",
       " './test/334.png',\n",
       " './test/335.png',\n",
       " './test/336.png',\n",
       " './test/337.png',\n",
       " './test/338.png',\n",
       " './test/339.png',\n",
       " './test/340.png',\n",
       " './test/341.png',\n",
       " './test/342.png',\n",
       " './test/343.png',\n",
       " './test/344.png',\n",
       " './test/345.png',\n",
       " './test/346.png',\n",
       " './test/347.png',\n",
       " './test/348.png',\n",
       " './test/349.png',\n",
       " './test/350.png',\n",
       " './test/351.png',\n",
       " './test/352.png',\n",
       " './test/353.png',\n",
       " './test/354.png',\n",
       " './test/355.png',\n",
       " './test/356.png',\n",
       " './test/357.png',\n",
       " './test/358.png',\n",
       " './test/359.png',\n",
       " './test/360.png',\n",
       " './test/361.png',\n",
       " './test/362.png',\n",
       " './test/363.png',\n",
       " './test/364.png',\n",
       " './test/365.png',\n",
       " './test/366.png',\n",
       " './test/367.png',\n",
       " './test/368.png',\n",
       " './test/369.png',\n",
       " './test/370.png',\n",
       " './test/371.png',\n",
       " './test/372.png',\n",
       " './test/373.png',\n",
       " './test/374.png',\n",
       " './test/375.png',\n",
       " './test/376.png',\n",
       " './test/377.png',\n",
       " './test/378.png',\n",
       " './test/379.png',\n",
       " './test/380.png',\n",
       " './test/381.png',\n",
       " './test/382.png',\n",
       " './test/383.png',\n",
       " './test/384.png',\n",
       " './test/385.png',\n",
       " './test/386.png',\n",
       " './test/387.png',\n",
       " './test/388.png',\n",
       " './test/389.png',\n",
       " './test/390.png',\n",
       " './test/391.png',\n",
       " './test/392.png',\n",
       " './test/393.png',\n",
       " './test/394.png',\n",
       " './test/395.png',\n",
       " './test/396.png',\n",
       " './test/397.png',\n",
       " './test/398.png',\n",
       " './test/399.png',\n",
       " './test/400.png',\n",
       " './test/401.png',\n",
       " './test/402.png',\n",
       " './test/403.png',\n",
       " './test/404.png',\n",
       " './test/405.png',\n",
       " './test/406.png',\n",
       " './test/407.png',\n",
       " './test/408.png',\n",
       " './test/409.png',\n",
       " './test/410.png',\n",
       " './test/411.png',\n",
       " './test/412.png',\n",
       " './test/413.png',\n",
       " './test/414.png',\n",
       " './test/415.png',\n",
       " './test/416.png',\n",
       " './test/417.png',\n",
       " './test/418.png',\n",
       " './test/419.png',\n",
       " './test/420.png',\n",
       " './test/421.png',\n",
       " './test/422.png',\n",
       " './test/423.png',\n",
       " './test/424.png',\n",
       " './test/425.png',\n",
       " './test/426.png',\n",
       " './test/427.png',\n",
       " './test/428.png',\n",
       " './test/429.png',\n",
       " './test/430.png',\n",
       " './test/431.png',\n",
       " './test/432.png',\n",
       " './test/433.png',\n",
       " './test/434.png',\n",
       " './test/435.png',\n",
       " './test/436.png',\n",
       " './test/437.png',\n",
       " './test/438.png',\n",
       " './test/439.png',\n",
       " './test/440.png',\n",
       " './test/441.png',\n",
       " './test/442.png',\n",
       " './test/443.png',\n",
       " './test/444.png',\n",
       " './test/445.png',\n",
       " './test/446.png',\n",
       " './test/447.png',\n",
       " './test/448.png',\n",
       " './test/449.png',\n",
       " './test/450.png',\n",
       " './test/451.png',\n",
       " './test/452.png',\n",
       " './test/453.png',\n",
       " './test/454.png',\n",
       " './test/455.png',\n",
       " './test/456.png',\n",
       " './test/457.png',\n",
       " './test/458.png',\n",
       " './test/459.png',\n",
       " './test/460.png',\n",
       " './test/461.png',\n",
       " './test/462.png',\n",
       " './test/463.png',\n",
       " './test/464.png',\n",
       " './test/465.png',\n",
       " './test/466.png',\n",
       " './test/467.png',\n",
       " './test/468.png',\n",
       " './test/469.png',\n",
       " './test/470.png',\n",
       " './test/471.png',\n",
       " './test/472.png',\n",
       " './test/473.png',\n",
       " './test/474.png',\n",
       " './test/475.png',\n",
       " './test/476.png',\n",
       " './test/477.png',\n",
       " './test/478.png',\n",
       " './test/479.png',\n",
       " './test/480.png',\n",
       " './test/481.png',\n",
       " './test/482.png',\n",
       " './test/483.png',\n",
       " './test/484.png',\n",
       " './test/485.png',\n",
       " './test/486.png',\n",
       " './test/487.png',\n",
       " './test/488.png',\n",
       " './test/489.png',\n",
       " './test/490.png',\n",
       " './test/491.png',\n",
       " './test/492.png',\n",
       " './test/493.png',\n",
       " './test/494.png',\n",
       " './test/495.png',\n",
       " './test/496.png',\n",
       " './test/497.png',\n",
       " './test/498.png',\n",
       " './test/499.png',\n",
       " './test/500.png',\n",
       " './test/501.png',\n",
       " './test/502.png',\n",
       " './test/503.png',\n",
       " './test/504.png',\n",
       " './test/505.png',\n",
       " './test/506.png',\n",
       " './test/507.png',\n",
       " './test/508.png',\n",
       " './test/509.png',\n",
       " './test/510.png',\n",
       " './test/511.png',\n",
       " './test/512.png',\n",
       " './test/513.png',\n",
       " './test/514.png',\n",
       " './test/515.png',\n",
       " './test/516.png',\n",
       " './test/517.png',\n",
       " './test/518.png',\n",
       " './test/519.png',\n",
       " './test/520.png',\n",
       " './test/521.png',\n",
       " './test/522.png',\n",
       " './test/523.png',\n",
       " './test/524.png',\n",
       " './test/525.png',\n",
       " './test/526.png',\n",
       " './test/527.png',\n",
       " './test/528.png',\n",
       " './test/529.png',\n",
       " './test/530.png',\n",
       " './test/531.png',\n",
       " './test/532.png',\n",
       " './test/533.png',\n",
       " './test/534.png',\n",
       " './test/535.png',\n",
       " './test/536.png',\n",
       " './test/537.png',\n",
       " './test/538.png',\n",
       " './test/539.png',\n",
       " './test/540.png',\n",
       " './test/541.png',\n",
       " './test/542.png',\n",
       " './test/543.png',\n",
       " './test/544.png',\n",
       " './test/545.png',\n",
       " './test/546.png',\n",
       " './test/547.png',\n",
       " './test/548.png',\n",
       " './test/549.png',\n",
       " './test/550.png',\n",
       " './test/551.png',\n",
       " './test/552.png',\n",
       " './test/553.png',\n",
       " './test/554.png',\n",
       " './test/555.png',\n",
       " './test/556.png',\n",
       " './test/557.png',\n",
       " './test/558.png',\n",
       " './test/559.png',\n",
       " './test/560.png',\n",
       " './test/561.png',\n",
       " './test/562.png',\n",
       " './test/563.png',\n",
       " './test/564.png',\n",
       " './test/565.png',\n",
       " './test/566.png',\n",
       " './test/567.png',\n",
       " './test/568.png',\n",
       " './test/569.png',\n",
       " './test/570.png',\n",
       " './test/571.png',\n",
       " './test/572.png',\n",
       " './test/573.png',\n",
       " './test/574.png',\n",
       " './test/575.png',\n",
       " './test/576.png',\n",
       " './test/577.png',\n",
       " './test/578.png',\n",
       " './test/579.png',\n",
       " './test/580.png',\n",
       " './test/581.png',\n",
       " './test/582.png',\n",
       " './test/583.png',\n",
       " './test/584.png',\n",
       " './test/585.png',\n",
       " './test/586.png',\n",
       " './test/587.png',\n",
       " './test/588.png',\n",
       " './test/589.png',\n",
       " './test/590.png',\n",
       " './test/591.png',\n",
       " './test/592.png',\n",
       " './test/593.png',\n",
       " './test/594.png',\n",
       " './test/595.png',\n",
       " './test/596.png',\n",
       " './test/597.png',\n",
       " './test/598.png',\n",
       " './test/599.png',\n",
       " './test/600.png',\n",
       " './test/601.png',\n",
       " './test/602.png',\n",
       " './test/603.png',\n",
       " './test/604.png',\n",
       " './test/605.png',\n",
       " './test/606.png',\n",
       " './test/607.png',\n",
       " './test/608.png',\n",
       " './test/609.png',\n",
       " './test/610.png',\n",
       " './test/611.png',\n",
       " './test/612.png',\n",
       " './test/613.png',\n",
       " './test/614.png',\n",
       " './test/615.png',\n",
       " './test/616.png',\n",
       " './test/617.png',\n",
       " './test/618.png',\n",
       " './test/619.png',\n",
       " './test/620.png',\n",
       " './test/621.png',\n",
       " './test/622.png',\n",
       " './test/623.png',\n",
       " './test/624.png',\n",
       " './test/625.png',\n",
       " './test/626.png',\n",
       " './test/627.png',\n",
       " './test/628.png',\n",
       " './test/629.png',\n",
       " './test/630.png',\n",
       " './test/631.png',\n",
       " './test/632.png',\n",
       " './test/633.png',\n",
       " './test/634.png',\n",
       " './test/635.png',\n",
       " './test/636.png',\n",
       " './test/637.png',\n",
       " './test/638.png',\n",
       " './test/639.png',\n",
       " './test/640.png',\n",
       " './test/641.png',\n",
       " './test/642.png',\n",
       " './test/643.png',\n",
       " './test/644.png',\n",
       " './test/645.png',\n",
       " './test/646.png',\n",
       " './test/647.png',\n",
       " './test/648.png',\n",
       " './test/649.png',\n",
       " './test/650.png',\n",
       " './test/651.png',\n",
       " './test/652.png',\n",
       " './test/653.png',\n",
       " './test/654.png',\n",
       " './test/655.png',\n",
       " './test/656.png',\n",
       " './test/657.png',\n",
       " './test/658.png',\n",
       " './test/659.png',\n",
       " './test/660.png',\n",
       " './test/661.png',\n",
       " './test/662.png',\n",
       " './test/663.png',\n",
       " './test/664.png',\n",
       " './test/665.png',\n",
       " './test/666.png',\n",
       " './test/667.png',\n",
       " './test/668.png',\n",
       " './test/669.png',\n",
       " './test/670.png',\n",
       " './test/671.png',\n",
       " './test/672.png',\n",
       " './test/673.png',\n",
       " './test/674.png',\n",
       " './test/675.png',\n",
       " './test/676.png',\n",
       " './test/677.png',\n",
       " './test/678.png',\n",
       " './test/679.png',\n",
       " './test/680.png',\n",
       " './test/681.png',\n",
       " './test/682.png',\n",
       " './test/683.png',\n",
       " './test/684.png',\n",
       " './test/685.png',\n",
       " './test/686.png',\n",
       " './test/687.png',\n",
       " './test/688.png',\n",
       " './test/689.png',\n",
       " './test/690.png',\n",
       " './test/691.png',\n",
       " './test/692.png',\n",
       " './test/693.png',\n",
       " './test/694.png',\n",
       " './test/695.png',\n",
       " './test/696.png',\n",
       " './test/697.png',\n",
       " './test/698.png',\n",
       " './test/699.png',\n",
       " './test/700.png',\n",
       " './test/701.png',\n",
       " './test/702.png',\n",
       " './test/703.png',\n",
       " './test/704.png',\n",
       " './test/705.png',\n",
       " './test/706.png',\n",
       " './test/707.png',\n",
       " './test/708.png',\n",
       " './test/709.png',\n",
       " './test/710.png',\n",
       " './test/711.png',\n",
       " './test/712.png',\n",
       " './test/713.png',\n",
       " './test/714.png',\n",
       " './test/715.png',\n",
       " './test/716.png',\n",
       " './test/717.png',\n",
       " './test/718.png',\n",
       " './test/719.png',\n",
       " './test/720.png',\n",
       " './test/721.png',\n",
       " './test/722.png',\n",
       " './test/723.png',\n",
       " './test/724.png',\n",
       " './test/725.png',\n",
       " './test/726.png',\n",
       " './test/727.png',\n",
       " './test/728.png',\n",
       " './test/729.png',\n",
       " './test/730.png',\n",
       " './test/731.png',\n",
       " './test/732.png',\n",
       " './test/733.png',\n",
       " './test/734.png',\n",
       " './test/735.png',\n",
       " './test/736.png',\n",
       " './test/737.png',\n",
       " './test/738.png',\n",
       " './test/739.png',\n",
       " './test/740.png',\n",
       " './test/741.png',\n",
       " './test/742.png',\n",
       " './test/743.png',\n",
       " './test/744.png',\n",
       " './test/745.png',\n",
       " './test/746.png',\n",
       " './test/747.png',\n",
       " './test/748.png',\n",
       " './test/749.png',\n",
       " './test/750.png',\n",
       " './test/751.png',\n",
       " './test/752.png',\n",
       " './test/753.png',\n",
       " './test/754.png',\n",
       " './test/755.png',\n",
       " './test/756.png',\n",
       " './test/757.png',\n",
       " './test/758.png',\n",
       " './test/759.png',\n",
       " './test/760.png',\n",
       " './test/761.png',\n",
       " './test/762.png',\n",
       " './test/763.png',\n",
       " './test/764.png',\n",
       " './test/765.png',\n",
       " './test/766.png',\n",
       " './test/767.png',\n",
       " './test/768.png',\n",
       " './test/769.png',\n",
       " './test/770.png',\n",
       " './test/771.png',\n",
       " './test/772.png',\n",
       " './test/773.png',\n",
       " './test/774.png',\n",
       " './test/775.png',\n",
       " './test/776.png',\n",
       " './test/777.png',\n",
       " './test/778.png',\n",
       " './test/779.png',\n",
       " './test/780.png',\n",
       " './test/781.png',\n",
       " './test/782.png',\n",
       " './test/783.png',\n",
       " './test/784.png',\n",
       " './test/785.png',\n",
       " './test/786.png',\n",
       " './test/787.png',\n",
       " './test/788.png',\n",
       " './test/789.png',\n",
       " './test/790.png',\n",
       " './test/791.png']"
      ]
     },
     "execution_count": 34,
     "metadata": {},
     "output_type": "execute_result"
    }
   ],
   "source": [
    "test_ls"
   ]
  },
  {
   "cell_type": "code",
   "execution_count": 35,
   "id": "0788d3f2",
   "metadata": {},
   "outputs": [],
   "source": [
    "preds = []\n",
    "for image in test_ls:\n",
    "    image = val_preprocess(Image.open(image)).unsqueeze(0).to(device)\n",
    "    text = clip.tokenize(text_label).to(device)\n",
    "\n",
    "    with torch.no_grad():\n",
    "        image_features = model.encode_image(image)\n",
    "        text_features = model.encode_text(text)\n",
    "\n",
    "        logits_per_image, logits_per_text = model(image, text)\n",
    "        probs = logits_per_image.softmax(dim=-1).cpu()\n",
    "        prob_idx = probs.argmax().cpu().item()\n",
    "        preds.append(prob_idx)"
   ]
  },
  {
   "cell_type": "code",
   "execution_count": 39,
   "id": "7a9a6725",
   "metadata": {},
   "outputs": [],
   "source": [
    "sub_csv = pd.read_csv('./sample_submission.csv')"
   ]
  },
  {
   "cell_type": "code",
   "execution_count": 40,
   "id": "0ea829ee",
   "metadata": {},
   "outputs": [],
   "source": [
    "sub_csv['label'] = pd.Series(preds)"
   ]
  },
  {
   "cell_type": "code",
   "execution_count": 41,
   "id": "a325f1d9",
   "metadata": {},
   "outputs": [
    {
     "data": {
      "text/html": [
       "<div>\n",
       "<style scoped>\n",
       "    .dataframe tbody tr th:only-of-type {\n",
       "        vertical-align: middle;\n",
       "    }\n",
       "\n",
       "    .dataframe tbody tr th {\n",
       "        vertical-align: top;\n",
       "    }\n",
       "\n",
       "    .dataframe thead th {\n",
       "        text-align: right;\n",
       "    }\n",
       "</style>\n",
       "<table border=\"1\" class=\"dataframe\">\n",
       "  <thead>\n",
       "    <tr style=\"text-align: right;\">\n",
       "      <th></th>\n",
       "      <th>id</th>\n",
       "      <th>label</th>\n",
       "    </tr>\n",
       "  </thead>\n",
       "  <tbody>\n",
       "    <tr>\n",
       "      <th>0</th>\n",
       "      <td>TEST_000</td>\n",
       "      <td>18</td>\n",
       "    </tr>\n",
       "    <tr>\n",
       "      <th>1</th>\n",
       "      <td>TEST_001</td>\n",
       "      <td>17</td>\n",
       "    </tr>\n",
       "    <tr>\n",
       "      <th>2</th>\n",
       "      <td>TEST_002</td>\n",
       "      <td>18</td>\n",
       "    </tr>\n",
       "    <tr>\n",
       "      <th>3</th>\n",
       "      <td>TEST_003</td>\n",
       "      <td>4</td>\n",
       "    </tr>\n",
       "    <tr>\n",
       "      <th>4</th>\n",
       "      <td>TEST_004</td>\n",
       "      <td>17</td>\n",
       "    </tr>\n",
       "    <tr>\n",
       "      <th>...</th>\n",
       "      <td>...</td>\n",
       "      <td>...</td>\n",
       "    </tr>\n",
       "    <tr>\n",
       "      <th>787</th>\n",
       "      <td>TEST_787</td>\n",
       "      <td>18</td>\n",
       "    </tr>\n",
       "    <tr>\n",
       "      <th>788</th>\n",
       "      <td>TEST_788</td>\n",
       "      <td>17</td>\n",
       "    </tr>\n",
       "    <tr>\n",
       "      <th>789</th>\n",
       "      <td>TEST_789</td>\n",
       "      <td>17</td>\n",
       "    </tr>\n",
       "    <tr>\n",
       "      <th>790</th>\n",
       "      <td>TEST_790</td>\n",
       "      <td>17</td>\n",
       "    </tr>\n",
       "    <tr>\n",
       "      <th>791</th>\n",
       "      <td>TEST_791</td>\n",
       "      <td>17</td>\n",
       "    </tr>\n",
       "  </tbody>\n",
       "</table>\n",
       "<p>792 rows × 2 columns</p>\n",
       "</div>"
      ],
      "text/plain": [
       "           id  label\n",
       "0    TEST_000     18\n",
       "1    TEST_001     17\n",
       "2    TEST_002     18\n",
       "3    TEST_003      4\n",
       "4    TEST_004     17\n",
       "..        ...    ...\n",
       "787  TEST_787     18\n",
       "788  TEST_788     17\n",
       "789  TEST_789     17\n",
       "790  TEST_790     17\n",
       "791  TEST_791     17\n",
       "\n",
       "[792 rows x 2 columns]"
      ]
     },
     "execution_count": 41,
     "metadata": {},
     "output_type": "execute_result"
    }
   ],
   "source": [
    "sub_csv"
   ]
  },
  {
   "cell_type": "code",
   "execution_count": 42,
   "id": "f1b54c88",
   "metadata": {},
   "outputs": [],
   "source": [
    "map_d = dict(zip([i for i in range(0, 19)],df.label.unique().tolist()))"
   ]
  },
  {
   "cell_type": "code",
   "execution_count": 43,
   "id": "1368f5a9",
   "metadata": {},
   "outputs": [],
   "source": [
    "sub_csv['label'] = sub_csv['label'].map(map_d)"
   ]
  },
  {
   "cell_type": "code",
   "execution_count": 44,
   "id": "8e1bb2e7",
   "metadata": {},
   "outputs": [
    {
     "data": {
      "text/html": [
       "<div>\n",
       "<style scoped>\n",
       "    .dataframe tbody tr th:only-of-type {\n",
       "        vertical-align: middle;\n",
       "    }\n",
       "\n",
       "    .dataframe tbody tr th {\n",
       "        vertical-align: top;\n",
       "    }\n",
       "\n",
       "    .dataframe thead th {\n",
       "        text-align: right;\n",
       "    }\n",
       "</style>\n",
       "<table border=\"1\" class=\"dataframe\">\n",
       "  <thead>\n",
       "    <tr style=\"text-align: right;\">\n",
       "      <th></th>\n",
       "      <th>id</th>\n",
       "      <th>label</th>\n",
       "    </tr>\n",
       "  </thead>\n",
       "  <tbody>\n",
       "    <tr>\n",
       "      <th>0</th>\n",
       "      <td>TEST_000</td>\n",
       "      <td>damage</td>\n",
       "    </tr>\n",
       "    <tr>\n",
       "      <th>1</th>\n",
       "      <td>TEST_001</td>\n",
       "      <td>contamination</td>\n",
       "    </tr>\n",
       "    <tr>\n",
       "      <th>2</th>\n",
       "      <td>TEST_002</td>\n",
       "      <td>damage</td>\n",
       "    </tr>\n",
       "    <tr>\n",
       "      <th>3</th>\n",
       "      <td>TEST_003</td>\n",
       "      <td>molding</td>\n",
       "    </tr>\n",
       "    <tr>\n",
       "      <th>4</th>\n",
       "      <td>TEST_004</td>\n",
       "      <td>contamination</td>\n",
       "    </tr>\n",
       "    <tr>\n",
       "      <th>...</th>\n",
       "      <td>...</td>\n",
       "      <td>...</td>\n",
       "    </tr>\n",
       "    <tr>\n",
       "      <th>787</th>\n",
       "      <td>TEST_787</td>\n",
       "      <td>damage</td>\n",
       "    </tr>\n",
       "    <tr>\n",
       "      <th>788</th>\n",
       "      <td>TEST_788</td>\n",
       "      <td>contamination</td>\n",
       "    </tr>\n",
       "    <tr>\n",
       "      <th>789</th>\n",
       "      <td>TEST_789</td>\n",
       "      <td>contamination</td>\n",
       "    </tr>\n",
       "    <tr>\n",
       "      <th>790</th>\n",
       "      <td>TEST_790</td>\n",
       "      <td>contamination</td>\n",
       "    </tr>\n",
       "    <tr>\n",
       "      <th>791</th>\n",
       "      <td>TEST_791</td>\n",
       "      <td>contamination</td>\n",
       "    </tr>\n",
       "  </tbody>\n",
       "</table>\n",
       "<p>792 rows × 2 columns</p>\n",
       "</div>"
      ],
      "text/plain": [
       "           id          label\n",
       "0    TEST_000         damage\n",
       "1    TEST_001  contamination\n",
       "2    TEST_002         damage\n",
       "3    TEST_003        molding\n",
       "4    TEST_004  contamination\n",
       "..        ...            ...\n",
       "787  TEST_787         damage\n",
       "788  TEST_788  contamination\n",
       "789  TEST_789  contamination\n",
       "790  TEST_790  contamination\n",
       "791  TEST_791  contamination\n",
       "\n",
       "[792 rows x 2 columns]"
      ]
     },
     "execution_count": 44,
     "metadata": {},
     "output_type": "execute_result"
    }
   ],
   "source": [
    "sub_csv"
   ]
  },
  {
   "cell_type": "code",
   "execution_count": 47,
   "id": "c1b824de",
   "metadata": {},
   "outputs": [],
   "source": [
    "k = sub_csv['label'].to_list()"
   ]
  },
  {
   "cell_type": "code",
   "execution_count": 48,
   "id": "07a86fda",
   "metadata": {},
   "outputs": [],
   "source": [
    "def label_decoder(label):\n",
    "    new_label =[\n",
    "        '가구수정' if l=='Furniture' else\n",
    "        '걸레받이수정' if l=='mopholder' else\n",
    "        '곰팡이' if l=='mold' else\n",
    "        '꼬임' if l=='twist' else\n",
    "        '녹오염' if l=='rust pollution' else\n",
    "        '들뜸' if l=='crack' else\n",
    "        '면불량' if l=='cotton defect' else\n",
    "        '몰딩수정' if l=='molding' else\n",
    "        '반점' if l=='half spot' else\n",
    "        '석고수정' if l=='plaster' else\n",
    "        '오염' if l=='contamination' else\n",
    "        '오타공' if l=='black spot' else\n",
    "        '울음' if l=='wrinkle' else\n",
    "        '이음부불량' if l=='wailing' else\n",
    "        '창틀,문틀수정' if l=='bad joint' else\n",
    "        '터짐' if l=='window frame' else\n",
    "        '틈새과다' if l=='gap' else\n",
    "        '피스' if l=='piece' else\n",
    "        '훼손' if l=='damage' else\n",
    "        'NaN' for l in label\n",
    "    ]\n",
    "    return np.array(new_label)"
   ]
  },
  {
   "cell_type": "code",
   "execution_count": 49,
   "id": "786961ad",
   "metadata": {},
   "outputs": [],
   "source": [
    "n = label_decoder(k)"
   ]
  },
  {
   "cell_type": "code",
   "execution_count": 50,
   "id": "cbb5b15c",
   "metadata": {},
   "outputs": [],
   "source": [
    "sub_csv['label'] = pd.Series(n)"
   ]
  },
  {
   "cell_type": "code",
   "execution_count": 51,
   "id": "d111c07b",
   "metadata": {},
   "outputs": [
    {
     "data": {
      "text/plain": [
       "'훼'"
      ]
     },
     "execution_count": 51,
     "metadata": {},
     "output_type": "execute_result"
    }
   ],
   "source": [
    "sub_csv['label'][0][0]"
   ]
  },
  {
   "cell_type": "code",
   "execution_count": 52,
   "id": "6766b4dc",
   "metadata": {},
   "outputs": [],
   "source": [
    "sub_csv.to_csv('05_22.csv', index = False)"
   ]
  },
  {
   "cell_type": "code",
   "execution_count": null,
   "id": "13888278",
   "metadata": {},
   "outputs": [],
   "source": []
  },
  {
   "cell_type": "code",
   "execution_count": null,
   "id": "dc563ce3",
   "metadata": {},
   "outputs": [],
   "source": []
  }
 ],
 "metadata": {
  "kernelspec": {
   "display_name": "Python 3 (ipykernel)",
   "language": "python",
   "name": "python3"
  },
  "language_info": {
   "codemirror_mode": {
    "name": "ipython",
    "version": 3
   },
   "file_extension": ".py",
   "mimetype": "text/x-python",
   "name": "python",
   "nbconvert_exporter": "python",
   "pygments_lexer": "ipython3",
   "version": "3.10.8"
  }
 },
 "nbformat": 4,
 "nbformat_minor": 5
}
